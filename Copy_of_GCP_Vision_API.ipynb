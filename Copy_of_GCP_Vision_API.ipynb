{
  "nbformat": 4,
  "nbformat_minor": 0,
  "metadata": {
    "colab": {
      "name": "Copy of GCP_Vision_API.ipynb",
      "provenance": [],
      "collapsed_sections": []
    },
    "kernelspec": {
      "display_name": "Python 3",
      "name": "python3"
    }
  },
  "cells": [
    {
      "cell_type": "markdown",
      "metadata": {
        "id": "URXcRzZXP4PQ"
      },
      "source": [
        "# Overview\n",
        "This notebook uses Google Cloud Platform's ML Vision API\n",
        "\n",
        "\n",
        "[GCP Vision](https://cloud.google.com/vision/docs/libraries)\n",
        "[GCP Big Query](https://googleapis.dev/python/bigquery/latest/index.html)\n",
        "\n",
        "# Resources\n",
        "\n",
        "https://cloud.google.com/solutions/creative-analysis-at-scale-with-google-cloud-and-machine-learning\n",
        "\n",
        "\n",
        "## Bucket: \n",
        "https://console.cloud.google.com/storage/browser/huge-prototype-ads-images;tab=objects?project=data-science-dev-huge&prefix=&forceOnObjectsSortingFiltering=false\n",
        "\n",
        "# GCP APIs\n",
        "\n",
        "## Cloud Resource Manager API\n",
        "https://console.cloud.google.com/apis/api/cloudresourcemanager.googleapis.com/overview?project=data-science-dev-huge"
      ]
    },
    {
      "cell_type": "code",
      "metadata": {
        "id": "uTNCx--kPRfM",
        "colab": {
          "base_uri": "https://localhost:8080/",
          "height": 939
        },
        "outputId": "0c68aa6d-0144-40da-8199-4d814c0e03de"
      },
      "source": [
        "!pip install --upgrade google-cloud-vision"
      ],
      "execution_count": null,
      "outputs": [
        {
          "output_type": "stream",
          "text": [
            "Collecting google-cloud-vision\n",
            "\u001b[?25l  Downloading https://files.pythonhosted.org/packages/0a/51/e6321162877a2903ba3158737b944cf582a62b7f045e22864ab56b764adc/google_cloud_vision-2.3.1-py2.py3-none-any.whl (461kB)\n",
            "\u001b[K     |████████████████████████████████| 471kB 8.0MB/s \n",
            "\u001b[?25hRequirement already satisfied, skipping upgrade: google-api-core[grpc]<2.0.0dev,>=1.22.2 in /usr/local/lib/python3.7/dist-packages (from google-cloud-vision) (1.26.3)\n",
            "Collecting proto-plus>=1.15.0\n",
            "\u001b[?25l  Downloading https://files.pythonhosted.org/packages/b4/8a/61c5a9b9b6288f9b060b6e3d88374fc083953a29aeac7206616c2d3c9c8e/proto_plus-1.18.1-py3-none-any.whl (42kB)\n",
            "\u001b[K     |████████████████████████████████| 51kB 5.0MB/s \n",
            "\u001b[?25hRequirement already satisfied, skipping upgrade: protobuf>=3.12.0 in /usr/local/lib/python3.7/dist-packages (from google-api-core[grpc]<2.0.0dev,>=1.22.2->google-cloud-vision) (3.12.4)\n",
            "Requirement already satisfied, skipping upgrade: packaging>=14.3 in /usr/local/lib/python3.7/dist-packages (from google-api-core[grpc]<2.0.0dev,>=1.22.2->google-cloud-vision) (20.9)\n",
            "Requirement already satisfied, skipping upgrade: setuptools>=40.3.0 in /usr/local/lib/python3.7/dist-packages (from google-api-core[grpc]<2.0.0dev,>=1.22.2->google-cloud-vision) (54.2.0)\n",
            "Requirement already satisfied, skipping upgrade: requests<3.0.0dev,>=2.18.0 in /usr/local/lib/python3.7/dist-packages (from google-api-core[grpc]<2.0.0dev,>=1.22.2->google-cloud-vision) (2.23.0)\n",
            "Requirement already satisfied, skipping upgrade: six>=1.13.0 in /usr/local/lib/python3.7/dist-packages (from google-api-core[grpc]<2.0.0dev,>=1.22.2->google-cloud-vision) (1.15.0)\n",
            "Requirement already satisfied, skipping upgrade: googleapis-common-protos<2.0dev,>=1.6.0 in /usr/local/lib/python3.7/dist-packages (from google-api-core[grpc]<2.0.0dev,>=1.22.2->google-cloud-vision) (1.53.0)\n",
            "Requirement already satisfied, skipping upgrade: google-auth<2.0dev,>=1.21.1 in /usr/local/lib/python3.7/dist-packages (from google-api-core[grpc]<2.0.0dev,>=1.22.2->google-cloud-vision) (1.28.1)\n",
            "Requirement already satisfied, skipping upgrade: pytz in /usr/local/lib/python3.7/dist-packages (from google-api-core[grpc]<2.0.0dev,>=1.22.2->google-cloud-vision) (2018.9)\n",
            "Requirement already satisfied, skipping upgrade: grpcio<2.0dev,>=1.29.0; extra == \"grpc\" in /usr/local/lib/python3.7/dist-packages (from google-api-core[grpc]<2.0.0dev,>=1.22.2->google-cloud-vision) (1.32.0)\n",
            "Requirement already satisfied, skipping upgrade: pyparsing>=2.0.2 in /usr/local/lib/python3.7/dist-packages (from packaging>=14.3->google-api-core[grpc]<2.0.0dev,>=1.22.2->google-cloud-vision) (2.4.7)\n",
            "Requirement already satisfied, skipping upgrade: urllib3!=1.25.0,!=1.25.1,<1.26,>=1.21.1 in /usr/local/lib/python3.7/dist-packages (from requests<3.0.0dev,>=2.18.0->google-api-core[grpc]<2.0.0dev,>=1.22.2->google-cloud-vision) (1.24.3)\n",
            "Requirement already satisfied, skipping upgrade: idna<3,>=2.5 in /usr/local/lib/python3.7/dist-packages (from requests<3.0.0dev,>=2.18.0->google-api-core[grpc]<2.0.0dev,>=1.22.2->google-cloud-vision) (2.10)\n",
            "Requirement already satisfied, skipping upgrade: certifi>=2017.4.17 in /usr/local/lib/python3.7/dist-packages (from requests<3.0.0dev,>=2.18.0->google-api-core[grpc]<2.0.0dev,>=1.22.2->google-cloud-vision) (2020.12.5)\n",
            "Requirement already satisfied, skipping upgrade: chardet<4,>=3.0.2 in /usr/local/lib/python3.7/dist-packages (from requests<3.0.0dev,>=2.18.0->google-api-core[grpc]<2.0.0dev,>=1.22.2->google-cloud-vision) (3.0.4)\n",
            "Requirement already satisfied, skipping upgrade: cachetools<5.0,>=2.0.0 in /usr/local/lib/python3.7/dist-packages (from google-auth<2.0dev,>=1.21.1->google-api-core[grpc]<2.0.0dev,>=1.22.2->google-cloud-vision) (4.2.1)\n",
            "Requirement already satisfied, skipping upgrade: rsa<5,>=3.1.4; python_version >= \"3.6\" in /usr/local/lib/python3.7/dist-packages (from google-auth<2.0dev,>=1.21.1->google-api-core[grpc]<2.0.0dev,>=1.22.2->google-cloud-vision) (4.7.2)\n",
            "Requirement already satisfied, skipping upgrade: pyasn1-modules>=0.2.1 in /usr/local/lib/python3.7/dist-packages (from google-auth<2.0dev,>=1.21.1->google-api-core[grpc]<2.0.0dev,>=1.22.2->google-cloud-vision) (0.2.8)\n",
            "Requirement already satisfied, skipping upgrade: pyasn1>=0.1.3 in /usr/local/lib/python3.7/dist-packages (from rsa<5,>=3.1.4; python_version >= \"3.6\"->google-auth<2.0dev,>=1.21.1->google-api-core[grpc]<2.0.0dev,>=1.22.2->google-cloud-vision) (0.4.8)\n",
            "Installing collected packages: proto-plus, google-cloud-vision\n",
            "Successfully installed google-cloud-vision-2.3.1 proto-plus-1.18.1\n"
          ],
          "name": "stdout"
        },
        {
          "output_type": "display_data",
          "data": {
            "application/vnd.colab-display-data+json": {
              "pip_warning": {
                "packages": [
                  "google"
                ]
              }
            }
          },
          "metadata": {
            "tags": []
          }
        },
        {
          "output_type": "stream",
          "text": [
            "Requirement already up-to-date: google-cloud-vision in /usr/local/lib/python3.7/dist-packages (2.3.1)\n",
            "Requirement already satisfied, skipping upgrade: proto-plus>=1.15.0 in /usr/local/lib/python3.7/dist-packages (from google-cloud-vision) (1.18.1)\n",
            "Requirement already satisfied, skipping upgrade: google-api-core[grpc]<2.0.0dev,>=1.22.2 in /usr/local/lib/python3.7/dist-packages (from google-cloud-vision) (1.26.3)\n",
            "Requirement already satisfied, skipping upgrade: protobuf>=3.12.0 in /usr/local/lib/python3.7/dist-packages (from proto-plus>=1.15.0->google-cloud-vision) (3.12.4)\n",
            "Requirement already satisfied, skipping upgrade: pytz in /usr/local/lib/python3.7/dist-packages (from google-api-core[grpc]<2.0.0dev,>=1.22.2->google-cloud-vision) (2018.9)\n",
            "Requirement already satisfied, skipping upgrade: googleapis-common-protos<2.0dev,>=1.6.0 in /usr/local/lib/python3.7/dist-packages (from google-api-core[grpc]<2.0.0dev,>=1.22.2->google-cloud-vision) (1.53.0)\n",
            "Requirement already satisfied, skipping upgrade: requests<3.0.0dev,>=2.18.0 in /usr/local/lib/python3.7/dist-packages (from google-api-core[grpc]<2.0.0dev,>=1.22.2->google-cloud-vision) (2.23.0)\n",
            "Requirement already satisfied, skipping upgrade: six>=1.13.0 in /usr/local/lib/python3.7/dist-packages (from google-api-core[grpc]<2.0.0dev,>=1.22.2->google-cloud-vision) (1.15.0)\n",
            "Requirement already satisfied, skipping upgrade: setuptools>=40.3.0 in /usr/local/lib/python3.7/dist-packages (from google-api-core[grpc]<2.0.0dev,>=1.22.2->google-cloud-vision) (54.2.0)\n",
            "Requirement already satisfied, skipping upgrade: google-auth<2.0dev,>=1.21.1 in /usr/local/lib/python3.7/dist-packages (from google-api-core[grpc]<2.0.0dev,>=1.22.2->google-cloud-vision) (1.28.1)\n",
            "Requirement already satisfied, skipping upgrade: packaging>=14.3 in /usr/local/lib/python3.7/dist-packages (from google-api-core[grpc]<2.0.0dev,>=1.22.2->google-cloud-vision) (20.9)\n",
            "Requirement already satisfied, skipping upgrade: grpcio<2.0dev,>=1.29.0; extra == \"grpc\" in /usr/local/lib/python3.7/dist-packages (from google-api-core[grpc]<2.0.0dev,>=1.22.2->google-cloud-vision) (1.32.0)\n",
            "Requirement already satisfied, skipping upgrade: urllib3!=1.25.0,!=1.25.1,<1.26,>=1.21.1 in /usr/local/lib/python3.7/dist-packages (from requests<3.0.0dev,>=2.18.0->google-api-core[grpc]<2.0.0dev,>=1.22.2->google-cloud-vision) (1.24.3)\n",
            "Requirement already satisfied, skipping upgrade: idna<3,>=2.5 in /usr/local/lib/python3.7/dist-packages (from requests<3.0.0dev,>=2.18.0->google-api-core[grpc]<2.0.0dev,>=1.22.2->google-cloud-vision) (2.10)\n",
            "Requirement already satisfied, skipping upgrade: certifi>=2017.4.17 in /usr/local/lib/python3.7/dist-packages (from requests<3.0.0dev,>=2.18.0->google-api-core[grpc]<2.0.0dev,>=1.22.2->google-cloud-vision) (2020.12.5)\n",
            "Requirement already satisfied, skipping upgrade: chardet<4,>=3.0.2 in /usr/local/lib/python3.7/dist-packages (from requests<3.0.0dev,>=2.18.0->google-api-core[grpc]<2.0.0dev,>=1.22.2->google-cloud-vision) (3.0.4)\n",
            "Requirement already satisfied, skipping upgrade: cachetools<5.0,>=2.0.0 in /usr/local/lib/python3.7/dist-packages (from google-auth<2.0dev,>=1.21.1->google-api-core[grpc]<2.0.0dev,>=1.22.2->google-cloud-vision) (4.2.1)\n",
            "Requirement already satisfied, skipping upgrade: rsa<5,>=3.1.4; python_version >= \"3.6\" in /usr/local/lib/python3.7/dist-packages (from google-auth<2.0dev,>=1.21.1->google-api-core[grpc]<2.0.0dev,>=1.22.2->google-cloud-vision) (4.7.2)\n",
            "Requirement already satisfied, skipping upgrade: pyasn1-modules>=0.2.1 in /usr/local/lib/python3.7/dist-packages (from google-auth<2.0dev,>=1.21.1->google-api-core[grpc]<2.0.0dev,>=1.22.2->google-cloud-vision) (0.2.8)\n",
            "Requirement already satisfied, skipping upgrade: pyparsing>=2.0.2 in /usr/local/lib/python3.7/dist-packages (from packaging>=14.3->google-api-core[grpc]<2.0.0dev,>=1.22.2->google-cloud-vision) (2.4.7)\n",
            "Requirement already satisfied, skipping upgrade: pyasn1>=0.1.3 in /usr/local/lib/python3.7/dist-packages (from rsa<5,>=3.1.4; python_version >= \"3.6\"->google-auth<2.0dev,>=1.21.1->google-api-core[grpc]<2.0.0dev,>=1.22.2->google-cloud-vision) (0.4.8)\n"
          ],
          "name": "stdout"
        }
      ]
    },
    {
      "cell_type": "code",
      "metadata": {
        "colab": {
          "base_uri": "https://localhost:8080/"
        },
        "id": "h3SFl2guGkuR",
        "outputId": "7522689f-9368-4343-dcdc-c80af989764f"
      },
      "source": [
        "!pip install --upgrade google-api-python-client"
      ],
      "execution_count": null,
      "outputs": [
        {
          "output_type": "stream",
          "text": [
            "Requirement already up-to-date: google-api-python-client in /usr/local/lib/python3.7/dist-packages (2.2.0)\n",
            "Requirement already satisfied, skipping upgrade: six<2dev,>=1.13.0 in /usr/local/lib/python3.7/dist-packages (from google-api-python-client) (1.15.0)\n",
            "Requirement already satisfied, skipping upgrade: httplib2<1dev,>=0.15.0 in /usr/local/lib/python3.7/dist-packages (from google-api-python-client) (0.17.4)\n",
            "Requirement already satisfied, skipping upgrade: google-auth<2dev,>=1.16.0 in /usr/local/lib/python3.7/dist-packages (from google-api-python-client) (1.28.1)\n",
            "Requirement already satisfied, skipping upgrade: google-api-core<2dev,>=1.21.0 in /usr/local/lib/python3.7/dist-packages (from google-api-python-client) (1.26.3)\n",
            "Requirement already satisfied, skipping upgrade: google-auth-httplib2>=0.1.0 in /usr/local/lib/python3.7/dist-packages (from google-api-python-client) (0.1.0)\n",
            "Requirement already satisfied, skipping upgrade: uritemplate<4dev,>=3.0.0 in /usr/local/lib/python3.7/dist-packages (from google-api-python-client) (3.0.1)\n",
            "Requirement already satisfied, skipping upgrade: cachetools<5.0,>=2.0.0 in /usr/local/lib/python3.7/dist-packages (from google-auth<2dev,>=1.16.0->google-api-python-client) (4.2.1)\n",
            "Requirement already satisfied, skipping upgrade: pyasn1-modules>=0.2.1 in /usr/local/lib/python3.7/dist-packages (from google-auth<2dev,>=1.16.0->google-api-python-client) (0.2.8)\n",
            "Requirement already satisfied, skipping upgrade: rsa<5,>=3.1.4; python_version >= \"3.6\" in /usr/local/lib/python3.7/dist-packages (from google-auth<2dev,>=1.16.0->google-api-python-client) (4.7.2)\n",
            "Requirement already satisfied, skipping upgrade: setuptools>=40.3.0 in /usr/local/lib/python3.7/dist-packages (from google-auth<2dev,>=1.16.0->google-api-python-client) (54.2.0)\n",
            "Requirement already satisfied, skipping upgrade: packaging>=14.3 in /usr/local/lib/python3.7/dist-packages (from google-api-core<2dev,>=1.21.0->google-api-python-client) (20.9)\n",
            "Requirement already satisfied, skipping upgrade: pytz in /usr/local/lib/python3.7/dist-packages (from google-api-core<2dev,>=1.21.0->google-api-python-client) (2018.9)\n",
            "Requirement already satisfied, skipping upgrade: protobuf>=3.12.0 in /usr/local/lib/python3.7/dist-packages (from google-api-core<2dev,>=1.21.0->google-api-python-client) (3.12.4)\n",
            "Requirement already satisfied, skipping upgrade: googleapis-common-protos<2.0dev,>=1.6.0 in /usr/local/lib/python3.7/dist-packages (from google-api-core<2dev,>=1.21.0->google-api-python-client) (1.53.0)\n",
            "Requirement already satisfied, skipping upgrade: requests<3.0.0dev,>=2.18.0 in /usr/local/lib/python3.7/dist-packages (from google-api-core<2dev,>=1.21.0->google-api-python-client) (2.23.0)\n",
            "Requirement already satisfied, skipping upgrade: pyasn1<0.5.0,>=0.4.6 in /usr/local/lib/python3.7/dist-packages (from pyasn1-modules>=0.2.1->google-auth<2dev,>=1.16.0->google-api-python-client) (0.4.8)\n",
            "Requirement already satisfied, skipping upgrade: pyparsing>=2.0.2 in /usr/local/lib/python3.7/dist-packages (from packaging>=14.3->google-api-core<2dev,>=1.21.0->google-api-python-client) (2.4.7)\n",
            "Requirement already satisfied, skipping upgrade: certifi>=2017.4.17 in /usr/local/lib/python3.7/dist-packages (from requests<3.0.0dev,>=2.18.0->google-api-core<2dev,>=1.21.0->google-api-python-client) (2020.12.5)\n",
            "Requirement already satisfied, skipping upgrade: idna<3,>=2.5 in /usr/local/lib/python3.7/dist-packages (from requests<3.0.0dev,>=2.18.0->google-api-core<2dev,>=1.21.0->google-api-python-client) (2.10)\n",
            "Requirement already satisfied, skipping upgrade: urllib3!=1.25.0,!=1.25.1,<1.26,>=1.21.1 in /usr/local/lib/python3.7/dist-packages (from requests<3.0.0dev,>=2.18.0->google-api-core<2dev,>=1.21.0->google-api-python-client) (1.24.3)\n",
            "Requirement already satisfied, skipping upgrade: chardet<4,>=3.0.2 in /usr/local/lib/python3.7/dist-packages (from requests<3.0.0dev,>=2.18.0->google-api-core<2dev,>=1.21.0->google-api-python-client) (3.0.4)\n"
          ],
          "name": "stdout"
        }
      ]
    },
    {
      "cell_type": "code",
      "metadata": {
        "colab": {
          "base_uri": "https://localhost:8080/"
        },
        "id": "OArGBBigXlhj",
        "outputId": "f67723bd-5d0c-470b-d8b4-5d64c49aed28"
      },
      "source": [
        "!gcloud auth login"
      ],
      "execution_count": null,
      "outputs": [
        {
          "output_type": "stream",
          "text": [
            "Go to the following link in your browser:\n",
            "\n",
            "    https://accounts.google.com/o/oauth2/auth?response_type=code&client_id=32555940559.apps.googleusercontent.com&redirect_uri=urn%3Aietf%3Awg%3Aoauth%3A2.0%3Aoob&scope=openid+https%3A%2F%2Fwww.googleapis.com%2Fauth%2Fuserinfo.email+https%3A%2F%2Fwww.googleapis.com%2Fauth%2Fcloud-platform+https%3A%2F%2Fwww.googleapis.com%2Fauth%2Fappengine.admin+https%3A%2F%2Fwww.googleapis.com%2Fauth%2Fcompute+https%3A%2F%2Fwww.googleapis.com%2Fauth%2Faccounts.reauth&state=c2TqC5Q5bsNSTmYzrHETia6akMXiLo&prompt=consent&access_type=offline&code_challenge=ukVziRnrZTEja6SMD0OWbArMLft2KwO3VadHR8jTHzk&code_challenge_method=S256\n",
            "\n",
            "Enter verification code: 4/1AY0e-g7O-mi8Dc_6FyH41L9Vo6BsYq7fSk3CBisB0fY7-RRYhAjsowxT5yg\n",
            "\n",
            "You are now logged in as [mwebb@hugeinc.com].\n",
            "Your current project is [None].  You can change this setting by running:\n",
            "  $ gcloud config set project PROJECT_ID\n"
          ],
          "name": "stdout"
        }
      ]
    },
    {
      "cell_type": "code",
      "metadata": {
        "id": "ARwbkN5oDwoL"
      },
      "source": [
        ""
      ],
      "execution_count": null,
      "outputs": []
    },
    {
      "cell_type": "code",
      "metadata": {
        "colab": {
          "base_uri": "https://localhost:8080/"
        },
        "id": "aBkrdG3AXvu0",
        "outputId": "caa43b0a-636e-4a85-c644-45557f3e58ae"
      },
      "source": [
        "!gcloud auth application-default login"
      ],
      "execution_count": null,
      "outputs": [
        {
          "output_type": "stream",
          "text": [
            "Go to the following link in your browser:\n",
            "\n",
            "    https://accounts.google.com/o/oauth2/auth?response_type=code&client_id=764086051850-6qr4p6gpi6hn506pt8ejuq83di341hur.apps.googleusercontent.com&redirect_uri=urn%3Aietf%3Awg%3Aoauth%3A2.0%3Aoob&scope=openid+https%3A%2F%2Fwww.googleapis.com%2Fauth%2Fuserinfo.email+https%3A%2F%2Fwww.googleapis.com%2Fauth%2Fcloud-platform+https%3A%2F%2Fwww.googleapis.com%2Fauth%2Faccounts.reauth&state=hUl2rnDvXBjcaXc1e3ORlKl9pGTMQn&prompt=consent&access_type=offline&code_challenge=bHVnHOEDLnjs6RaxAMbkw11MBAHNelqp6C5qUBAhKiQ&code_challenge_method=S256\n",
            "\n",
            "Enter verification code: 4/1AY0e-g7njyyCC94lT_FMNGkddsa7dZzU8qj_eDMOuZE-P6dQeftshBmN5Y0\n",
            "\n",
            "Credentials saved to file: [/content/.config/application_default_credentials.json]\n",
            "\n",
            "These credentials will be used by any library that requests Application Default Credentials (ADC).\n",
            "\u001b[1;33mWARNING:\u001b[0m \n",
            "Cannot find a quota project to add to ADC. You might receive a \"quota exceeded\" or \"API not enabled\" error. Run $ gcloud auth application-default set-quota-project to add a quota project.\n"
          ],
          "name": "stdout"
        }
      ]
    },
    {
      "cell_type": "code",
      "metadata": {
        "id": "uA_QUYU8Dymn"
      },
      "source": [
        "#1000 billing units per month before charge...cheap cheap though\n",
        "\n",
        "# CONSTANTS\n",
        "GCP_PROJECT = \"data-science-dev-huge\"\n",
        "GCP_BUCKET = \"huge-prototype-ads-images/creative_images_input_raw/\"\n",
        "#IMAGE = os.path.abspath(f'/content/{GCP_BUCKET}/citrix-banner-example.jpg')\n",
        "#IMAGE_URL = f\"gs://{GCP_BUCKET}/citrix-banner-example.jpg\"\n",
        "#IMAGE_URL2 = f\"gs://{GCP_BUCKET}/022420_CTX_Workspace_Competitive_Pricing_Plan_160x600-f.jpg\""
      ],
      "execution_count": null,
      "outputs": []
    },
    {
      "cell_type": "code",
      "metadata": {
        "id": "IVyQuw1BE4Pm",
        "colab": {
          "base_uri": "https://localhost:8080/"
        },
        "outputId": "588f5b5d-f7bc-4af1-f2b6-322b29867d23"
      },
      "source": [
        "# Imports\n",
        "import io\n",
        "import requests\n",
        "import unicodedata\n",
        "import pandas as pd\n",
        "import os\n",
        "from google.cloud import vision\n",
        "import google.auth\n",
        "from google.colab import auth\n",
        "auth.authenticate_user()\n",
        "credentials, project_id = google.auth.default()"
      ],
      "execution_count": null,
      "outputs": [
        {
          "output_type": "stream",
          "text": [
            "/usr/local/lib/python3.7/dist-packages/google/auth/_default.py:70: UserWarning: Your application has authenticated using end user credentials from Google Cloud SDK without a quota project. You might receive a \"quota exceeded\" or \"API not enabled\" error. We recommend you rerun `gcloud auth application-default login` and make sure a quota project is added. Or you can use service accounts instead. For more information about service accounts, see https://cloud.google.com/docs/authentication/\n",
            "  warnings.warn(_CLOUD_SDK_CREDENTIALS_WARNING)\n",
            "/usr/local/lib/python3.7/dist-packages/google/auth/_default.py:70: UserWarning: Your application has authenticated using end user credentials from Google Cloud SDK without a quota project. You might receive a \"quota exceeded\" or \"API not enabled\" error. We recommend you rerun `gcloud auth application-default login` and make sure a quota project is added. Or you can use service accounts instead. For more information about service accounts, see https://cloud.google.com/docs/authentication/\n",
            "  warnings.warn(_CLOUD_SDK_CREDENTIALS_WARNING)\n"
          ],
          "name": "stderr"
        }
      ]
    },
    {
      "cell_type": "code",
      "metadata": {
        "id": "voWSiGenncn4",
        "colab": {
          "base_uri": "https://localhost:8080/"
        },
        "outputId": "301e8aac-56db-408a-e3c5-5113a2d7158f"
      },
      "source": [
        "from google.colab import drive\n",
        "drive.mount('/content/drive')"
      ],
      "execution_count": null,
      "outputs": [
        {
          "output_type": "stream",
          "text": [
            "Mounted at /content/drive\n"
          ],
          "name": "stdout"
        }
      ]
    },
    {
      "cell_type": "code",
      "metadata": {
        "id": "0nU_OSKLPd3u"
      },
      "source": [
        ""
      ],
      "execution_count": null,
      "outputs": []
    },
    {
      "cell_type": "code",
      "metadata": {
        "colab": {
          "base_uri": "https://localhost:8080/"
        },
        "id": "EQt-HDC3PcIx",
        "outputId": "bd4e9f96-bd63-4d78-b78c-de6108d971b7"
      },
      "source": [
        "\n",
        "# Authenticate to GCP.\n",
        "!gcloud auth application-default login\n",
        "!gcloud auth application-default set-quota-project $GCP_PROJECT\n",
        "!gcloud config set project $GCP_PROJECT"
      ],
      "execution_count": null,
      "outputs": [
        {
          "output_type": "stream",
          "text": [
            "Go to the following link in your browser:\n",
            "\n",
            "    https://accounts.google.com/o/oauth2/auth?response_type=code&client_id=764086051850-6qr4p6gpi6hn506pt8ejuq83di341hur.apps.googleusercontent.com&redirect_uri=urn%3Aietf%3Awg%3Aoauth%3A2.0%3Aoob&scope=openid+https%3A%2F%2Fwww.googleapis.com%2Fauth%2Fuserinfo.email+https%3A%2F%2Fwww.googleapis.com%2Fauth%2Fcloud-platform+https%3A%2F%2Fwww.googleapis.com%2Fauth%2Faccounts.reauth&state=8ksPAmoYv8qcaQeJvnjpgAAbwHnrtX&prompt=consent&access_type=offline&code_challenge=shtfKd8TMETxT8_u5aP0-J17AbsCgvRFGe3TuGZpnuU&code_challenge_method=S256\n",
            "\n",
            "Enter verification code: 4/1AY0e-g6_vNS9y0izXX17DIInUnIKOVIezIU4kOtAkZVWxMvxv4cwx-jZDKs\n",
            "\n",
            "Credentials saved to file: [/content/.config/application_default_credentials.json]\n",
            "\n",
            "These credentials will be used by any library that requests Application Default Credentials (ADC).\n",
            "\u001b[1;33mWARNING:\u001b[0m \n",
            "Cannot find a quota project to add to ADC. You might receive a \"quota exceeded\" or \"API not enabled\" error. Run $ gcloud auth application-default set-quota-project to add a quota project.\n",
            "/tools/google-cloud-sdk/lib/third_party/google/auth/_default.py:70: UserWarning: Your application has authenticated using end user credentials from Google Cloud SDK without a quota project. You might receive a \"quota exceeded\" or \"API not enabled\" error. We recommend you rerun `gcloud auth application-default login` and make sure a quota project is added. Or you can use service accounts instead. For more information about service accounts, see https://cloud.google.com/docs/authentication/\n",
            "  warnings.warn(_CLOUD_SDK_CREDENTIALS_WARNING)\n",
            "\n",
            "Credentials saved to file: [/content/.config/application_default_credentials.json]\n",
            "\n",
            "These credentials will be used by any library that requests Application Default Credentials (ADC).\n",
            "\n",
            "Quota project \"data-science-dev-huge\" was added to ADC which can be used by Google client libraries for billing and quota. Note that some services may still bill the project owning the resource.\n",
            "Updated property [core/project].\n"
          ],
          "name": "stdout"
        }
      ]
    },
    {
      "cell_type": "code",
      "metadata": {
        "colab": {
          "base_uri": "https://localhost:8080/"
        },
        "id": "4zs98wIfFLXo",
        "outputId": "06146d39-06b2-4e42-a539-1747c9207fb2"
      },
      "source": [
        "#!cat /content/.config/application_default_credentials.json"
      ],
      "execution_count": null,
      "outputs": [
        {
          "output_type": "stream",
          "text": [
            "{\n",
            "  \"client_id\": \"764086051850-6qr4p6gpi6hn506pt8ejuq83di341hur.apps.googleusercontent.com\",\n",
            "  \"client_secret\": \"d-FL95Q19q7MQmFpd7hHD0Ty\",\n",
            "  \"quota_project_id\": \"data-science-dev-huge\",\n",
            "  \"refresh_token\": \"1//04hsfj7wpmw9ZCgYIARAAGAQSNwF-L9IrIY_galLoMnZCixP2EmBU4nfgZLBsB_SjVDXrZK1qCYMceTWJRmi91jbNZXBd5GkCfS8\",\n",
            "  \"type\": \"authorized_user\"\n",
            "}"
          ],
          "name": "stdout"
        }
      ]
    },
    {
      "cell_type": "markdown",
      "metadata": {
        "id": "iAa7GR1UZghL"
      },
      "source": [
        "### Creative Data Input Begins Here\n",
        "1. Read in creative data\n",
        "2. De-dupe creative data to a single name and ID and size combination\n",
        "3. Persist these new IDs into drive."
      ]
    },
    {
      "cell_type": "code",
      "metadata": {
        "id": "k8et682i0uYD"
      },
      "source": [
        "API = \"https://s0.2mdn.net/\"\n",
        "ACCOUNT_ID = 9918507\n",
        "CREATIVE_FILENAME = \"bd_eng-AUS_edu_disp_wksp-1_overarchingexbenefit_728x90.jpg\"\n",
        "\n",
        "#We need to compile the URI, bring down the image from the URI, send image to GCP, send image to COLAB and store down on local Google Colab\n",
        "#Compile the above to create the following api call:\n",
        "#!wget https://s0.2mdn.net/9918507/022420_CTX_Workspace_Competitive_Pricing_Plan_160x600-f.jpg\n",
        "\n",
        "!mkdir \"/content/images/\"\n",
        "OUTPUT_LOC = f\"/content/images/{CREATIVE_FILENAME}\"\n",
        "RAW_CREATIVE = f\"https://s0.2mdn.net/{ACCOUNT_ID}/{CREATIVE_FILENAME}\"\n"
      ],
      "execution_count": null,
      "outputs": []
    },
    {
      "cell_type": "code",
      "metadata": {
        "colab": {
          "base_uri": "https://localhost:8080/",
          "height": 35
        },
        "id": "emaEt5Y-w_Ij",
        "outputId": "b2b1e5c7-e6a9-43d6-a1f2-67acd5fa8a5e"
      },
      "source": [
        "RAW_CREATIVE \n"
      ],
      "execution_count": null,
      "outputs": [
        {
          "output_type": "execute_result",
          "data": {
            "application/vnd.google.colaboratory.intrinsic+json": {
              "type": "string"
            },
            "text/plain": [
              "'https://s0.2mdn.net/9918507/bd_eng-AUS_edu_disp_wksp-1_overarchingexbenefit_728x90.jpg'"
            ]
          },
          "metadata": {
            "tags": []
          },
          "execution_count": 16
        }
      ]
    },
    {
      "cell_type": "code",
      "metadata": {
        "id": "5XndhO4xVrk2"
      },
      "source": [
        "#r=requests.get(RAW_CREATIVE)"
      ],
      "execution_count": null,
      "outputs": []
    },
    {
      "cell_type": "markdown",
      "metadata": {
        "id": "pKACSAE3GruT"
      },
      "source": [
        ""
      ]
    },
    {
      "cell_type": "code",
      "metadata": {
        "id": "7izLQvDHXB1X"
      },
      "source": [
        "#r.content\n",
        "#file=open(dest_filename, \"wb\")\n",
        "#file.write(r.content)\n",
        "#file.close()"
      ],
      "execution_count": null,
      "outputs": []
    },
    {
      "cell_type": "code",
      "metadata": {
        "id": "nBOrhp8nl7zK"
      },
      "source": [
        "# ##upload creatives from local (*** obviously this needs to change ***) -- need to get a reliable source of creatives - this is the bottleneck of entire system -- lots of attention here!!!\n",
        "# import pandas as pd\n",
        "# creatives = pd.read_csv(\"/content/drive/My Drive/creative_test_data/creative ID's with Names and KPI's_2.csv\", header=None) ## this is from Rory and my export of DFA/DCM\n",
        "# creatives = creatives.rename(columns={0: 'creative_filename'})\n",
        "# ### this has a unicode character set at the end of each string that must be stripped"
      ],
      "execution_count": null,
      "outputs": []
    },
    {
      "cell_type": "code",
      "metadata": {
        "colab": {
          "base_uri": "https://localhost:8080/",
          "height": 204
        },
        "id": "rBC_5-PDLXdi",
        "outputId": "5ea5b586-0bae-4d08-f6a4-5f6c4bf09bbb"
      },
      "source": [
        "# creatives.head()"
      ],
      "execution_count": null,
      "outputs": [
        {
          "output_type": "execute_result",
          "data": {
            "text/html": [
              "<div>\n",
              "<style scoped>\n",
              "    .dataframe tbody tr th:only-of-type {\n",
              "        vertical-align: middle;\n",
              "    }\n",
              "\n",
              "    .dataframe tbody tr th {\n",
              "        vertical-align: top;\n",
              "    }\n",
              "\n",
              "    .dataframe thead th {\n",
              "        text-align: right;\n",
              "    }\n",
              "</style>\n",
              "<table border=\"1\" class=\"dataframe\">\n",
              "  <thead>\n",
              "    <tr style=\"text-align: right;\">\n",
              "      <th></th>\n",
              "      <th>creative_filename</th>\n",
              "    </tr>\n",
              "  </thead>\n",
              "  <tbody>\n",
              "    <tr>\n",
              "      <th>0</th>\n",
              "      <td>022420_CTX_Workspace_Competitive_Pricing_Plan_...</td>\n",
              "    </tr>\n",
              "    <tr>\n",
              "      <th>1</th>\n",
              "      <td>022420_CTX_Workspace_Competitive_Pricing_Plan_...</td>\n",
              "    </tr>\n",
              "    <tr>\n",
              "      <th>2</th>\n",
              "      <td>022420_CTX_Workspace_Competitive_Pricing_Plan_...</td>\n",
              "    </tr>\n",
              "    <tr>\n",
              "      <th>3</th>\n",
              "      <td>022420_CTX_Workspace_Competitive_Pricing_Plan_...</td>\n",
              "    </tr>\n",
              "    <tr>\n",
              "      <th>4</th>\n",
              "      <td>022420_CTX_Workspace_Competitive_Pricing_Plan_...</td>\n",
              "    </tr>\n",
              "  </tbody>\n",
              "</table>\n",
              "</div>"
            ],
            "text/plain": [
              "                                   creative_filename\n",
              "0  022420_CTX_Workspace_Competitive_Pricing_Plan_...\n",
              "1  022420_CTX_Workspace_Competitive_Pricing_Plan_...\n",
              "2  022420_CTX_Workspace_Competitive_Pricing_Plan_...\n",
              "3  022420_CTX_Workspace_Competitive_Pricing_Plan_...\n",
              "4  022420_CTX_Workspace_Competitive_Pricing_Plan_..."
            ]
          },
          "metadata": {
            "tags": []
          },
          "execution_count": 21
        }
      ]
    },
    {
      "cell_type": "code",
      "metadata": {
        "colab": {
          "base_uri": "https://localhost:8080/",
          "height": 35
        },
        "id": "yXK0dLWUm5p0",
        "outputId": "76ba0139-2391-4a45-f29d-7553cc1d8413"
      },
      "source": [
        "# creatives.creative_filename[0]"
      ],
      "execution_count": null,
      "outputs": [
        {
          "output_type": "execute_result",
          "data": {
            "application/vnd.google.colaboratory.intrinsic+json": {
              "type": "string"
            },
            "text/plain": [
              "'022420_CTX_Workspace_Competitive_Pricing_Plan_160x600-f.jpg\\xa0'"
            ]
          },
          "metadata": {
            "tags": []
          },
          "execution_count": 22
        }
      ]
    },
    {
      "cell_type": "code",
      "metadata": {
        "colab": {
          "base_uri": "https://localhost:8080/"
        },
        "id": "pY_dO-IHxC0O",
        "outputId": "f5950fcc-6e44-4cb4-9eb9-8d62bdad68ea"
      },
      "source": [
        "#creatives['creative_filename'].str.rfind.slice(stop=idx)\n",
        "#creatives.apply(lambda x: x.creative_filename.rfind(\"_\", 0, len(x.creative_filename, axis=1)))\n",
        "# len(creatives.creative_filename)"
      ],
      "execution_count": null,
      "outputs": [
        {
          "output_type": "execute_result",
          "data": {
            "text/plain": [
              "64"
            ]
          },
          "metadata": {
            "tags": []
          },
          "execution_count": 12
        }
      ]
    },
    {
      "cell_type": "code",
      "metadata": {
        "id": "DyqalUlSfteS"
      },
      "source": [
        "# #### this is key to match back to performance\n",
        "# match_creative = []\n",
        "# idx = creatives[\"creative_filename\"].str.rfind(\"_\") #reverse find catches the sizes of each creative\n",
        "# for i in range(len(creatives.creative_filename)):\n",
        "#   match_creative.append(creatives.iloc[i].creative_filename[:idx[i]])\n"
      ],
      "execution_count": null,
      "outputs": []
    },
    {
      "cell_type": "code",
      "metadata": {
        "colab": {
          "base_uri": "https://localhost:8080/"
        },
        "id": "774fO0vovEx5",
        "outputId": "31332f3f-bc70-4e98-8534-e71880a55248"
      },
      "source": [
        "!gsutil ls gs://{GCP_BUCKET}"
      ],
      "execution_count": null,
      "outputs": [
        {
          "output_type": "stream",
          "text": [
            "gs://huge-prototype-ads-images/creative_images_input_raw/\n",
            "gs://huge-prototype-ads-images/creative_images_input_raw/021820_CTX_Workspace_Experience_SDWAN_OnDemand_Webinar_160x600-f.jpg\n",
            "gs://huge-prototype-ads-images/creative_images_input_raw/021820_CTX_Workspace_Experience_SDWAN_OnDemand_Webinar_300x250-f.jpg\n",
            "gs://huge-prototype-ads-images/creative_images_input_raw/08062020-163202805-082819_CTX_ADM_Cloud_Native_Application_Delivery_Webinar_OnDemand_160x600-f.jpg\n",
            "gs://huge-prototype-ads-images/creative_images_input_raw/08062020-163205850-082819_CTX_ADM_Cloud_Native_Application_Delivery_Webinar_OnDemand_300x250-f.jpg\n",
            "gs://huge-prototype-ads-images/creative_images_input_raw/081219_CTX_ADM_Hybrid_Multicloud_Webinar_OnDemand_300x250-f.jpg\n",
            "gs://huge-prototype-ads-images/creative_images_input_raw/082819_CTX_ADM_Cloud_Native_Application_Delivery_Webinar_OnDemand_300x250-f.jpg\n",
            "gs://huge-prototype-ads-images/creative_images_input_raw/728x90_B.jpg\n",
            "gs://huge-prototype-ads-images/creative_images_input_raw/ADC_Guide_DA-300x600.jpg\n",
            "gs://huge-prototype-ads-images/creative_images_input_raw/Banner_Vertical_Narrow_160x600.jpg\n",
            "gs://huge-prototype-ads-images/creative_images_input_raw/Banner_Vertical_Wide_300x600.jpg\n",
            "gs://huge-prototype-ads-images/creative_images_input_raw/Citrix_CNN_eBook_300x250.jpg\n",
            "gs://huge-prototype-ads-images/creative_images_input_raw/Citrix_Q2_ADC-Infographic-Enable_300x600.jpg\n",
            "gs://huge-prototype-ads-images/creative_images_input_raw/Citrix_Q2_ADC-Infographic_300x600.jpg\n",
            "gs://huge-prototype-ads-images/creative_images_input_raw/Citrix_Q2_SD-WAN-Solution-Brief_300x600.jpg\n",
            "gs://huge-prototype-ads-images/creative_images_input_raw/Citrix_Q2_SD-WAN-Whitepaper-HC_300x50.jpg\n",
            "gs://huge-prototype-ads-images/creative_images_input_raw/Citrix_Video_300x600.jpg\n",
            "gs://huge-prototype-ads-images/creative_images_input_raw/Cloud_Networking_7_Key_Considerations_300x600.jpg\n",
            "gs://huge-prototype-ads-images/creative_images_input_raw/Cloud_Networking_Cloud_Network_Video_300x250.jpg\n",
            "gs://huge-prototype-ads-images/creative_images_input_raw/Cloud_Networking_Cloud_eBook_300x600.jpg\n",
            "gs://huge-prototype-ads-images/creative_images_input_raw/DA-300x250.jpg\n",
            "gs://huge-prototype-ads-images/creative_images_input_raw/dmd_de_disp_netw-1_7considerationsformicroapps_na_300x600.jpg\n",
            "gs://huge-prototype-ads-images/creative_images_input_raw/dmd_de_disp_netw-1_appdeliverycloudnatives_na_300x600.jpg\n"
          ],
          "name": "stdout"
        }
      ]
    },
    {
      "cell_type": "markdown",
      "metadata": {
        "id": "QdO3WBiPOkXE"
      },
      "source": [
        "# START HERE\n",
        "---\n",
        "\n"
      ]
    },
    {
      "cell_type": "code",
      "metadata": {
        "id": "LELxrDf-Ep-Q"
      },
      "source": [
        "GCP_PROJECT = \"data-science-dev-huge\"\n",
        "GCP_BUCKET = \"huge-prototype-ads-images/creative_images_input_raw/\""
      ],
      "execution_count": null,
      "outputs": []
    },
    {
      "cell_type": "code",
      "metadata": {
        "id": "-vPI13HBiBac"
      },
      "source": [
        "imageList = !gsutil ls gs://{GCP_BUCKET}\n"
      ],
      "execution_count": null,
      "outputs": []
    },
    {
      "cell_type": "code",
      "metadata": {
        "colab": {
          "base_uri": "https://localhost:8080/"
        },
        "id": "_J5fZCKqFW-q",
        "outputId": "13892446-0540-48e0-b6f7-527e2a342ab9"
      },
      "source": [
        "imageList"
      ],
      "execution_count": null,
      "outputs": [
        {
          "output_type": "execute_result",
          "data": {
            "text/plain": [
              "['gs://huge-prototype-ads-images/creative_images_input_raw/']"
            ]
          },
          "metadata": {
            "tags": []
          },
          "execution_count": 10
        }
      ]
    },
    {
      "cell_type": "code",
      "metadata": {
        "id": "kKJz_91OEnuS"
      },
      "source": [
        "#clean list\n",
        "imageList = imageList[1:len(imageList)]"
      ],
      "execution_count": null,
      "outputs": []
    },
    {
      "cell_type": "markdown",
      "metadata": {
        "id": "umLHZ6CFcJ4S"
      },
      "source": [
        "### the idea here is to find a way to de-dupe the creative names and their sizes so that we only send 1 image to vision opposed to all of the combinations of size"
      ]
    },
    {
      "cell_type": "code",
      "metadata": {
        "id": "tIdO6qMvJ9o2"
      },
      "source": [
        "# #this may not be necessary\n",
        "\n",
        "# #remove all unicode strings - this can be done above\n",
        "# for i in range(len(creatives.creative_filename)):\n",
        "#   match_creative.append(creatives.iloc[i].creative_filename[:idx[i]])"
      ],
      "execution_count": null,
      "outputs": []
    },
    {
      "cell_type": "code",
      "metadata": {
        "colab": {
          "base_uri": "https://localhost:8080/"
        },
        "id": "S_grWZiDQZOU",
        "outputId": "525314a7-c74f-4b01-8d7b-03edbbc2a840"
      },
      "source": [
        "# set(match_creative)\n",
        "imageList"
      ],
      "execution_count": null,
      "outputs": [
        {
          "output_type": "execute_result",
          "data": {
            "text/plain": [
              "['gs://huge-prototype-ads-images/creative_images_input_raw/021820_CTX_Workspace_Experience_SDWAN_OnDemand_Webinar_160x600-f.jpg',\n",
              " 'gs://huge-prototype-ads-images/creative_images_input_raw/021820_CTX_Workspace_Experience_SDWAN_OnDemand_Webinar_300x250-f.jpg',\n",
              " 'gs://huge-prototype-ads-images/creative_images_input_raw/08062020-163202805-082819_CTX_ADM_Cloud_Native_Application_Delivery_Webinar_OnDemand_160x600-f.jpg',\n",
              " 'gs://huge-prototype-ads-images/creative_images_input_raw/08062020-163205850-082819_CTX_ADM_Cloud_Native_Application_Delivery_Webinar_OnDemand_300x250-f.jpg',\n",
              " 'gs://huge-prototype-ads-images/creative_images_input_raw/081219_CTX_ADM_Hybrid_Multicloud_Webinar_OnDemand_300x250-f.jpg',\n",
              " 'gs://huge-prototype-ads-images/creative_images_input_raw/082819_CTX_ADM_Cloud_Native_Application_Delivery_Webinar_OnDemand_300x250-f.jpg',\n",
              " 'gs://huge-prototype-ads-images/creative_images_input_raw/728x90_B.jpg',\n",
              " 'gs://huge-prototype-ads-images/creative_images_input_raw/ADC_Guide_DA-300x600.jpg',\n",
              " 'gs://huge-prototype-ads-images/creative_images_input_raw/Banner_Vertical_Narrow_160x600.jpg',\n",
              " 'gs://huge-prototype-ads-images/creative_images_input_raw/Banner_Vertical_Wide_300x600.jpg',\n",
              " 'gs://huge-prototype-ads-images/creative_images_input_raw/Citrix_CNN_eBook_300x250.jpg',\n",
              " 'gs://huge-prototype-ads-images/creative_images_input_raw/Citrix_Q2_ADC-Infographic-Enable_300x600.jpg',\n",
              " 'gs://huge-prototype-ads-images/creative_images_input_raw/Citrix_Q2_ADC-Infographic_300x600.jpg',\n",
              " 'gs://huge-prototype-ads-images/creative_images_input_raw/Citrix_Q2_SD-WAN-Solution-Brief_300x600.jpg',\n",
              " 'gs://huge-prototype-ads-images/creative_images_input_raw/Citrix_Q2_SD-WAN-Whitepaper-HC_300x50.jpg',\n",
              " 'gs://huge-prototype-ads-images/creative_images_input_raw/Citrix_Video_300x600.jpg',\n",
              " 'gs://huge-prototype-ads-images/creative_images_input_raw/Cloud_Networking_7_Key_Considerations_300x600.jpg',\n",
              " 'gs://huge-prototype-ads-images/creative_images_input_raw/Cloud_Networking_Cloud_Network_Video_300x250.jpg',\n",
              " 'gs://huge-prototype-ads-images/creative_images_input_raw/Cloud_Networking_Cloud_eBook_300x600.jpg',\n",
              " 'gs://huge-prototype-ads-images/creative_images_input_raw/DA-300x250.jpg',\n",
              " 'gs://huge-prototype-ads-images/creative_images_input_raw/dmd_de_disp_netw-1_7considerationsformicroapps_na_300x600.jpg',\n",
              " 'gs://huge-prototype-ads-images/creative_images_input_raw/dmd_de_disp_netw-1_appdeliverycloudnatives_na_300x600.jpg']"
            ]
          },
          "metadata": {
            "tags": []
          },
          "execution_count": 15
        }
      ]
    },
    {
      "cell_type": "code",
      "metadata": {
        "id": "0xq6S4e1OADH"
      },
      "source": [
        "#I've come back to this line to consider the de-dupe process (end of day who gives a f if we throw a thousand through the system vs. 100....i'm probably the only guy)"
      ],
      "execution_count": null,
      "outputs": []
    },
    {
      "cell_type": "markdown",
      "metadata": {
        "id": "FiEX6GEBQ3zB"
      },
      "source": [
        "## Only run this once as it is attempting to take image names and resolve the api and then storing them in the temp folder...this isn't what we want in end\n"
      ]
    },
    {
      "cell_type": "code",
      "metadata": {
        "colab": {
          "base_uri": "https://localhost:8080/"
        },
        "id": "Go2ud_8TlCut",
        "outputId": "dd39d380-78de-4fd6-de77-87293c01bd18"
      },
      "source": [
        "import unicodedata\n",
        "import os\n",
        "dest_filename = \"\"\n",
        "command = \"\"\n",
        "cnt = 0\n",
        "RAW_CREATIVE = []\n",
        "URL = []\n",
        "response=\"\"\n",
        "creative_cleaned = []\n",
        "for i in creatives['creative_filename'][0:25]:\n",
        "  dest_filename = f'/content/images/{i}.jpg'\n",
        "  RAW_CREATIVE = f\"https://s0.2mdn.net/{ACCOUNT_ID}/{i}\"\n",
        "  creative_cleaned.append(unicodedata.normalize(\"NFKD\", i))\n",
        "  URL = unicodedata.normalize(\"NFKD\", RAW_CREATIVE)\n",
        "  print(URL)\n",
        "  print(type(URL))\n",
        "  response = requests.get(URL)\n",
        "  print(response)\n",
        "  file = open(dest_filename, \"wb\")\n",
        "  file.write(response.content)\n",
        "  file.close()\n",
        "  cnt+=1\n"
      ],
      "execution_count": null,
      "outputs": [
        {
          "output_type": "stream",
          "text": [
            "https://s0.2mdn.net/9918507/022420_CTX_Workspace_Competitive_Pricing_Plan_160x600-f.jpg \n",
            "<class 'str'>\n",
            "<Response [200]>\n",
            "https://s0.2mdn.net/9918507/022420_CTX_Workspace_Competitive_Pricing_Plan_300x250-f.jpg \n",
            "<class 'str'>\n",
            "<Response [200]>\n",
            "https://s0.2mdn.net/9918507/022420_CTX_Workspace_Competitive_Pricing_Plan_300x50-f.jpg \n",
            "<class 'str'>\n",
            "<Response [200]>\n",
            "https://s0.2mdn.net/9918507/022420_CTX_Workspace_Competitive_Pricing_Plan_300x600-f.jpg \n",
            "<class 'str'>\n",
            "<Response [200]>\n",
            "https://s0.2mdn.net/9918507/022420_CTX_Workspace_Competitive_Pricing_Plan_728x90-f.jpg \n",
            "<class 'str'>\n",
            "<Response [200]>\n",
            "https://s0.2mdn.net/9918507/bd_eng-AUS_edu_disp_wksp-1_overarchingexbenefit_160x600.jpg \n",
            "<class 'str'>\n",
            "<Response [200]>\n",
            "https://s0.2mdn.net/9918507/bd_eng-AUS_edu_disp_wksp-1_overarchingexbenefit_300x250.jpg \n",
            "<class 'str'>\n",
            "<Response [200]>\n",
            "https://s0.2mdn.net/9918507/bd_eng-AUS_edu_disp_wksp-1_overarchingexbenefit_300x600.jpg \n",
            "<class 'str'>\n",
            "<Response [200]>\n",
            "https://s0.2mdn.net/9918507/bd_eng-AUS_edu_disp_wksp-1_overarchingexbenefit_320x50.jpg \n",
            "<class 'str'>\n",
            "<Response [200]>\n",
            "https://s0.2mdn.net/9918507/bd_eng-AUS_edu_disp_wksp-1_overarchingexbenefit_728x90.jpg \n",
            "<class 'str'>\n",
            "<Response [200]>\n",
            "https://s0.2mdn.net/9918507/bd_eng-AUS_edu_disp_wksp-1_overarchingexbenefit_970x250.jpg \n",
            "<class 'str'>\n",
            "<Response [200]>\n",
            "https://s0.2mdn.net/9918507/bd_eng-AUS_edu_disp_wksp-1_overarchingsecbenefit_300x250.jpg \n",
            "<class 'str'>\n",
            "<Response [200]>\n",
            "https://s0.2mdn.net/9918507/bd_eng-AUS_edu_disp_wksp-1_overarchingsecbenefit_300x250.png \n",
            "<class 'str'>\n",
            "<Response [200]>\n",
            "https://s0.2mdn.net/9918507/bd_eng-AUS_edu_disp_wksp-1_overarchingsecbenefit_320x50.jpg \n",
            "<class 'str'>\n",
            "<Response [200]>\n",
            "https://s0.2mdn.net/9918507/bd_eng-AUS_edu_disp_wksp-1_overarchingsecbenefit_320x50.png \n",
            "<class 'str'>\n",
            "<Response [200]>\n",
            "https://s0.2mdn.net/9918507/bd_eng-AUS_edu_disp_wksp-1_overarchingsecbenefit_728x90.jpg \n",
            "<class 'str'>\n",
            "<Response [200]>\n",
            "https://s0.2mdn.net/9918507/bd_eng-AUS_edu_disp_wksp-1_overarchingsecbenefit_728x90.png \n",
            "<class 'str'>\n",
            "<Response [200]>\n",
            "https://s0.2mdn.net/9918507/bd_eng-AUS_edu_disp_wksp-1_overarchingsecbenefit_970x250.jpg \n",
            "<class 'str'>\n",
            "<Response [200]>\n",
            "https://s0.2mdn.net/9918507/bd_eng-AUS_edu_disp_wksp-1_overarchingsecbenefit_970x250.png \n",
            "<class 'str'>\n",
            "<Response [200]>\n",
            "https://s0.2mdn.net/9918507/bd_eng-AUS_edu_disp_wksp-1_rtbpersonalize_300x250.jpg \n",
            "<class 'str'>\n",
            "<Response [200]>\n",
            "https://s0.2mdn.net/9918507/bd_eng-AUS_edu_disp_wksp-1_rtbpersonalize_320x50.jpg \n",
            "<class 'str'>\n",
            "<Response [200]>\n",
            "https://s0.2mdn.net/9918507/bd_eng-AUS_edu_disp_wksp-1_rtbpersonalize_728x90.jpg \n",
            "<class 'str'>\n",
            "<Response [200]>\n",
            "https://s0.2mdn.net/9918507/bd_eng-AUS_edu_disp_wksp-1_rtbpersonalize_970x250.jpg \n",
            "<class 'str'>\n",
            "<Response [200]>\n",
            "https://s0.2mdn.net/9918507/bd_eng-HK_edu-disp_wksp-1_overarchingexbenefit_300x250.jpg \n",
            "<class 'str'>\n",
            "<Response [200]>\n",
            "https://s0.2mdn.net/9918507/bd_eng-HK_edu-disp_wksp-1_overarchingexbenefit_970x250.jpg \n",
            "<class 'str'>\n",
            "<Response [200]>\n"
          ],
          "name": "stdout"
        }
      ]
    },
    {
      "cell_type": "code",
      "metadata": {
        "colab": {
          "base_uri": "https://localhost:8080/"
        },
        "id": "X4cU1rXJjUMf",
        "outputId": "9d5627a7-56d9-46b2-ee3e-63f2e663fb2b"
      },
      "source": [
        "# Authenticate to GCP.\n",
        "!gcloud auth application-default login\n",
        "!gcloud auth application-default set-quota-project $GCP_PROJECT\n",
        "!gcloud config set project $GCP_PROJECT"
      ],
      "execution_count": null,
      "outputs": [
        {
          "output_type": "stream",
          "text": [
            "Go to the following link in your browser:\n",
            "\n",
            "    https://accounts.google.com/o/oauth2/auth?response_type=code&client_id=764086051850-6qr4p6gpi6hn506pt8ejuq83di341hur.apps.googleusercontent.com&redirect_uri=urn%3Aietf%3Awg%3Aoauth%3A2.0%3Aoob&scope=openid+https%3A%2F%2Fwww.googleapis.com%2Fauth%2Fuserinfo.email+https%3A%2F%2Fwww.googleapis.com%2Fauth%2Fcloud-platform+https%3A%2F%2Fwww.googleapis.com%2Fauth%2Faccounts.reauth&state=aO6jI7xfaeYaJIJmTaDemWc4LokHmN&prompt=consent&access_type=offline&code_challenge=PMTgmiIdQDNjF6hktChdAqMrhOOsL5O-ehYj4j9ldc4&code_challenge_method=S256\n",
            "\n",
            "Enter verification code: 4/1AY0e-g5lN2IiDyjJRrW3tZZsXAeGXk3IE69siy48j-EO4FIEkHdYxlsr12w\n",
            "\n",
            "Credentials saved to file: [/content/.config/application_default_credentials.json]\n",
            "\n",
            "These credentials will be used by any library that requests Application Default Credentials (ADC).\n",
            "/tools/google-cloud-sdk/lib/third_party/google/auth/_default.py:70: UserWarning: Your application has authenticated using end user credentials from Google Cloud SDK without a quota project. You might receive a \"quota exceeded\" or \"API not enabled\" error. We recommend you rerun `gcloud auth application-default login` and make sure a quota project is added. Or you can use service accounts instead. For more information about service accounts, see https://cloud.google.com/docs/authentication/\n",
            "  warnings.warn(_CLOUD_SDK_CREDENTIALS_WARNING)\n",
            "\n",
            "Quota project \"data-science-dev-huge\" was added to ADC which can be used by Google client libraries for billing and quota. Note that some services may still bill the project owning the resource.\n",
            "\n",
            "Credentials saved to file: [/content/.config/application_default_credentials.json]\n",
            "\n",
            "These credentials will be used by any library that requests Application Default Credentials (ADC).\n",
            "\n",
            "Quota project \"data-science-dev-huge\" was added to ADC which can be used by Google client libraries for billing and quota. Note that some services may still bill the project owning the resource.\n",
            "Updated property [core/project].\n"
          ],
          "name": "stdout"
        }
      ]
    },
    {
      "cell_type": "code",
      "metadata": {
        "colab": {
          "base_uri": "https://localhost:8080/"
        },
        "id": "4tr_2YefbICz",
        "outputId": "b0897259-a652-4bf0-b703-3c9400ea2095"
      },
      "source": [
        "#import unicodedata\n",
        "#new_str = unicodedata.normalize(\"NFKD\", t[1])\n",
        "#new_str.strip()\n",
        "#new_str\n",
        "!mkdir /content/drive/My Drive/creative_test_data/"
      ],
      "execution_count": null,
      "outputs": [
        {
          "output_type": "stream",
          "text": [
            "mkdir: cannot create directory ‘/content/drive/My’: Operation not supported\n",
            "mkdir: cannot create directory ‘Drive/creative_test_data/’: No such file or directory\n"
          ],
          "name": "stdout"
        }
      ]
    },
    {
      "cell_type": "code",
      "metadata": {
        "colab": {
          "base_uri": "https://localhost:8080/"
        },
        "id": "Y32L3QNw37Fi",
        "outputId": "95d55023-86cb-4520-d3df-df20729a1ed4"
      },
      "source": [
        "!gsutil ls gs://huge-prototype-ads-images/creative_images_input_raw/ "
      ],
      "execution_count": null,
      "outputs": [
        {
          "output_type": "stream",
          "text": [
            "gs://huge-prototype-ads-images/creative_images_input_raw/\n",
            "gs://huge-prototype-ads-images/creative_images_input_raw/021820_CTX_Workspace_Experience_SDWAN_OnDemand_Webinar_160x600-f.jpg\n",
            "gs://huge-prototype-ads-images/creative_images_input_raw/021820_CTX_Workspace_Experience_SDWAN_OnDemand_Webinar_300x250-f.jpg\n",
            "gs://huge-prototype-ads-images/creative_images_input_raw/08062020-163202805-082819_CTX_ADM_Cloud_Native_Application_Delivery_Webinar_OnDemand_160x600-f.jpg\n",
            "gs://huge-prototype-ads-images/creative_images_input_raw/08062020-163205850-082819_CTX_ADM_Cloud_Native_Application_Delivery_Webinar_OnDemand_300x250-f.jpg\n",
            "gs://huge-prototype-ads-images/creative_images_input_raw/081219_CTX_ADM_Hybrid_Multicloud_Webinar_OnDemand_300x250-f.jpg\n",
            "gs://huge-prototype-ads-images/creative_images_input_raw/082819_CTX_ADM_Cloud_Native_Application_Delivery_Webinar_OnDemand_300x250-f.jpg\n",
            "gs://huge-prototype-ads-images/creative_images_input_raw/728x90_B.jpg\n",
            "gs://huge-prototype-ads-images/creative_images_input_raw/ADC_Guide_DA-300x600.jpg\n",
            "gs://huge-prototype-ads-images/creative_images_input_raw/Banner_Vertical_Narrow_160x600.jpg\n",
            "gs://huge-prototype-ads-images/creative_images_input_raw/Banner_Vertical_Wide_300x600.jpg\n",
            "gs://huge-prototype-ads-images/creative_images_input_raw/Citrix_CNN_eBook_300x250.jpg\n",
            "gs://huge-prototype-ads-images/creative_images_input_raw/Citrix_Q2_ADC-Infographic-Enable_300x600.jpg\n",
            "gs://huge-prototype-ads-images/creative_images_input_raw/Citrix_Q2_ADC-Infographic_300x600.jpg\n",
            "gs://huge-prototype-ads-images/creative_images_input_raw/Citrix_Q2_SD-WAN-Solution-Brief_300x600.jpg\n",
            "gs://huge-prototype-ads-images/creative_images_input_raw/Citrix_Q2_SD-WAN-Whitepaper-HC_300x50.jpg\n",
            "gs://huge-prototype-ads-images/creative_images_input_raw/Citrix_Video_300x600.jpg\n",
            "gs://huge-prototype-ads-images/creative_images_input_raw/Cloud_Networking_7_Key_Considerations_300x600.jpg\n",
            "gs://huge-prototype-ads-images/creative_images_input_raw/Cloud_Networking_Cloud_Network_Video_300x250.jpg\n",
            "gs://huge-prototype-ads-images/creative_images_input_raw/Cloud_Networking_Cloud_eBook_300x600.jpg\n",
            "gs://huge-prototype-ads-images/creative_images_input_raw/DA-300x250.jpg\n",
            "gs://huge-prototype-ads-images/creative_images_input_raw/dmd_de_disp_netw-1_7considerationsformicroapps_na_300x600.jpg\n",
            "gs://huge-prototype-ads-images/creative_images_input_raw/dmd_de_disp_netw-1_appdeliverycloudnatives_na_300x600.jpg\n"
          ],
          "name": "stdout"
        }
      ]
    },
    {
      "cell_type": "code",
      "metadata": {
        "colab": {
          "base_uri": "https://localhost:8080/"
        },
        "id": "00jOXOHh3b_x",
        "outputId": "57369083-1f10-4553-9919-3c937dd0ec46"
      },
      "source": [
        "!pwd"
      ],
      "execution_count": null,
      "outputs": [
        {
          "output_type": "stream",
          "text": [
            "/content\n"
          ],
          "name": "stdout"
        }
      ]
    },
    {
      "cell_type": "code",
      "metadata": {
        "colab": {
          "base_uri": "https://localhost:8080/"
        },
        "id": "tMddK5yC4L0s",
        "outputId": "bcc728d7-9d48-4b5f-f6dc-fae8c6ff7617"
      },
      "source": [
        "!gsutil cp gs://huge-prototype-ads-images/creative_images_input_raw/* ."
      ],
      "execution_count": null,
      "outputs": [
        {
          "output_type": "stream",
          "text": [
            "Copying gs://huge-prototype-ads-images/creative_images_input_raw/021820_CTX_Workspace_Experience_SDWAN_OnDemand_Webinar_160x600-f.jpg...\n",
            "Copying gs://huge-prototype-ads-images/creative_images_input_raw/021820_CTX_Workspace_Experience_SDWAN_OnDemand_Webinar_300x250-f.jpg...\n",
            "Copying gs://huge-prototype-ads-images/creative_images_input_raw/08062020-163202805-082819_CTX_ADM_Cloud_Native_Application_Delivery_Webinar_OnDemand_160x600-f.jpg...\n",
            "/ [3 files][170.8 KiB/170.8 KiB]                                                \n",
            "==> NOTE: You are performing a sequence of gsutil operations that may\n",
            "run significantly faster if you instead use gsutil -m cp ... Please\n",
            "see the -m section under \"gsutil help options\" for further information\n",
            "about when gsutil -m can be advantageous.\n",
            "\n",
            "Copying gs://huge-prototype-ads-images/creative_images_input_raw/08062020-163205850-082819_CTX_ADM_Cloud_Native_Application_Delivery_Webinar_OnDemand_300x250-f.jpg...\n",
            "Copying gs://huge-prototype-ads-images/creative_images_input_raw/081219_CTX_ADM_Hybrid_Multicloud_Webinar_OnDemand_300x250-f.jpg...\n",
            "Copying gs://huge-prototype-ads-images/creative_images_input_raw/082819_CTX_ADM_Cloud_Native_Application_Delivery_Webinar_OnDemand_300x250-f.jpg...\n",
            "Copying gs://huge-prototype-ads-images/creative_images_input_raw/728x90_B.jpg...\n",
            "Copying gs://huge-prototype-ads-images/creative_images_input_raw/ADC_Guide_DA-300x600.jpg...\n",
            "Copying gs://huge-prototype-ads-images/creative_images_input_raw/Banner_Vertical_Narrow_160x600.jpg...\n",
            "Copying gs://huge-prototype-ads-images/creative_images_input_raw/Banner_Vertical_Wide_300x600.jpg...\n",
            "Copying gs://huge-prototype-ads-images/creative_images_input_raw/Citrix_CNN_eBook_300x250.jpg...\n",
            "Copying gs://huge-prototype-ads-images/creative_images_input_raw/Citrix_Q2_ADC-Infographic-Enable_300x600.jpg...\n",
            "Copying gs://huge-prototype-ads-images/creative_images_input_raw/Citrix_Q2_ADC-Infographic_300x600.jpg...\n",
            "Copying gs://huge-prototype-ads-images/creative_images_input_raw/Citrix_Q2_SD-WAN-Solution-Brief_300x600.jpg...\n",
            "Copying gs://huge-prototype-ads-images/creative_images_input_raw/Citrix_Q2_SD-WAN-Whitepaper-HC_300x50.jpg...\n",
            "Copying gs://huge-prototype-ads-images/creative_images_input_raw/Citrix_Video_300x600.jpg...\n",
            "Copying gs://huge-prototype-ads-images/creative_images_input_raw/Cloud_Networking_7_Key_Considerations_300x600.jpg...\n",
            "Copying gs://huge-prototype-ads-images/creative_images_input_raw/Cloud_Networking_Cloud_Network_Video_300x250.jpg...\n",
            "Copying gs://huge-prototype-ads-images/creative_images_input_raw/Cloud_Networking_Cloud_eBook_300x600.jpg...\n",
            "Copying gs://huge-prototype-ads-images/creative_images_input_raw/DA-300x250.jpg...\n",
            "Copying gs://huge-prototype-ads-images/creative_images_input_raw/dmd_de_disp_netw-1_7considerationsformicroapps_na_300x600.jpg...\n",
            "Copying gs://huge-prototype-ads-images/creative_images_input_raw/dmd_de_disp_netw-1_appdeliverycloudnatives_na_300x600.jpg...\n",
            "/ [22 files][  1.2 MiB/  1.2 MiB]                                               \n",
            "Operation completed over 22 objects/1.2 MiB.                                     \n"
          ],
          "name": "stdout"
        }
      ]
    },
    {
      "cell_type": "markdown",
      "metadata": {
        "id": "hXIXMNg6zPwW"
      },
      "source": [
        "\n",
        "### this needs attention...does imagery flow from colab to drive to storage? "
      ]
    },
    {
      "cell_type": "code",
      "metadata": {
        "id": "_XJPeML1zhiY"
      },
      "source": [
        "!gsutil "
      ],
      "execution_count": null,
      "outputs": []
    },
    {
      "cell_type": "code",
      "metadata": {
        "colab": {
          "base_uri": "https://localhost:8080/"
        },
        "id": "6tuyx0hyJ1Vb",
        "outputId": "545104e3-d7ec-4f5f-f55b-1958e700e66d"
      },
      "source": [
        "\n",
        "### this needs attention...does imagery flow from colab to drive to storage? \n",
        "\n",
        "#!rm /content/images/*\n",
        "#!cp -r /content/images/* /content/drive/My Drive/creative_test_data/\n",
        "#!gsutil -m cp -r /content/drive/My Drive/creative_test_data/* gs://{$GCP_BUCKET}/\n",
        "#!gsutil -m cp -r /content/drive/My Drive/creative_test_data/* gs://{$GCP_BUCKET}/"
      ],
      "execution_count": null,
      "outputs": [
        {
          "output_type": "stream",
          "text": [
            "cp: target 'Drive/creative_test_data/' is not a directory\n",
            "CommandException: No URLs matched: /content/drive/My\n",
            "CommandException: No URLs matched: Drive/creative_test_data/*\n",
            "CommandException: 2 files/objects could not be transferred.\n"
          ],
          "name": "stdout"
        }
      ]
    },
    {
      "cell_type": "code",
      "metadata": {
        "colab": {
          "base_uri": "https://localhost:8080/"
        },
        "id": "4cLhxa_CWKY6",
        "outputId": "67a56c6b-7bf9-4d1a-a4cb-a93deafeee44"
      },
      "source": [
        "# bring in data from gcp - unneeded\n",
        "#!gsutil cp -r gs://$GCP_BUCKET/ . \n",
        "#!ls $GCP_BUCKET/"
      ],
      "execution_count": null,
      "outputs": [
        {
          "output_type": "stream",
          "text": [
            "Copying gs://huge-prototype-ads-images/022420_CTX_Workspace_Competitive_Pricing_Plan_160x600-f.jpg...\n",
            "Copying gs://huge-prototype-ads-images/DyQ79iYUYAAWtNu.jpeg...\n",
            "Copying gs://huge-prototype-ads-images/Screen Shot 2020-10-19 at 11.14.07 PM.png...\n",
            "Copying gs://huge-prototype-ads-images/citrix-banner-example.jpg...\n",
            "- [4 files][980.5 KiB/980.5 KiB]                                                \n",
            "==> NOTE: You are performing a sequence of gsutil operations that may\n",
            "run significantly faster if you instead use gsutil -m cp ... Please\n",
            "see the -m section under \"gsutil help options\" for further information\n",
            "about when gsutil -m can be advantageous.\n",
            "\n",
            "Copying gs://huge-prototype-ads-images/d400905.diff...\n",
            "\\ [5 files][982.7 KiB/982.7 KiB]                                                \n",
            "Operation completed over 5 objects/982.7 KiB.                                    \n",
            " 022420_CTX_Workspace_Competitive_Pricing_Plan_160x600-f.jpg\n",
            " citrix-banner-example.jpg\n",
            " d400905.diff\n",
            " DyQ79iYUYAAWtNu.jpeg\n",
            "'Screen Shot 2020-10-19 at 11.14.07 PM.png'\n"
          ],
          "name": "stdout"
        }
      ]
    },
    {
      "cell_type": "code",
      "metadata": {
        "colab": {
          "base_uri": "https://localhost:8080/"
        },
        "id": "u6CyQmIWl9iA",
        "outputId": "65c0521f-c05b-49ee-8a1d-20783124e4c1"
      },
      "source": [
        "#this copies data from colab to GCP -- run only for net new images\n",
        "#!gsutil -m cp -r /content/images/* gs://$GCP_BUCKET/\n",
        "#!gsutil ls gs://$GCP_BUCKET/"
      ],
      "execution_count": null,
      "outputs": [
        {
          "output_type": "stream",
          "text": [
            "You are attempting to perform an operation that requires a project id, with none configured. Please re-run gsutil config and make sure to follow the instructions for finding and entering your default project id.\n"
          ],
          "name": "stdout"
        }
      ]
    },
    {
      "cell_type": "markdown",
      "metadata": {
        "id": "9hgy_tezBzvD"
      },
      "source": [
        "# Using the client proper with one feature per image"
      ]
    },
    {
      "cell_type": "markdown",
      "metadata": {
        "id": "3eiUHtM_Bufy"
      },
      "source": [
        "# Multiple Features in a Single Request But Each Request Can (and does) Contain Multiple Billable Units\n",
        "\n"
      ]
    },
    {
      "cell_type": "code",
      "metadata": {
        "id": "uqNfzPX-7B1G"
      },
      "source": [
        "def process_image(url: str, feature_list: list=None):\n",
        "    \"\"\"\n",
        "    Used for batch feature types\n",
        "    \"\"\"\n",
        "    if not feature_list:\n",
        "        feature_list = ['LABEL_DETECTION']\n",
        "    if not isinstance(feature_list, list):\n",
        "        feature_list = [feature_list]\n",
        "\n",
        "    client = vision.ImageAnnotatorClient()\n",
        "\n",
        "    features = [\n",
        "        {'type_': f_type}\n",
        "        for f_type in feature_list\n",
        "    ]\n",
        "    image = {'source': {'image_uri': url}}\n",
        "\n",
        "    return client.annotate_image({\n",
        "    'image': image,\n",
        "    'features': features\n",
        "    })"
      ],
      "execution_count": null,
      "outputs": []
    },
    {
      "cell_type": "code",
      "metadata": {
        "id": "A6hEndQ68Nto"
      },
      "source": [
        "# Example of running function with one feature\n",
        "#response = process_image(IMAGE_URL)\n",
        "#labels = response.label_annotations\n",
        "#print('Object Labels:')\n",
        "#for label in labels:\n",
        "#    print(label.description)"
      ],
      "execution_count": null,
      "outputs": []
    },
    {
      "cell_type": "code",
      "metadata": {
        "id": "IpzzoZRcnjjl"
      },
      "source": [
        "#IMAGE_URL2 = f\"gs://{GCP_BUCKET}/022420_CTX_Workspace_Competitive_Pricing_Plan_160x600-f.jpg\" # for this to really roll we need to isolate the creative name and the most important size and marry the two before vision"
      ],
      "execution_count": null,
      "outputs": []
    },
    {
      "cell_type": "markdown",
      "metadata": {
        "id": "Rm0fKQf9nHT3"
      },
      "source": [
        "# Vision API hits here"
      ]
    },
    {
      "cell_type": "code",
      "metadata": {
        "id": "OV97IVeOnSrx"
      },
      "source": [
        "# Example for multiple -- add in the other modals here \n",
        "feature_list = [\n",
        "    vision.Feature.Type.LABEL_DETECTION,\n",
        "    vision.Feature.Type.TEXT_DETECTION,\n",
        "    vision.Feature.Type.LOGO_DETECTION\n",
        "]"
      ],
      "execution_count": null,
      "outputs": []
    },
    {
      "cell_type": "code",
      "metadata": {
        "colab": {
          "base_uri": "https://localhost:8080/"
        },
        "id": "oSRtwd6ZDs1t",
        "outputId": "8cff8cf9-6f7b-4bfc-8626-d3731a5619d1"
      },
      "source": [
        "!gsutil ls gs://huge-prototype-ads-images/creative_images_input_raw"
      ],
      "execution_count": null,
      "outputs": [
        {
          "output_type": "stream",
          "text": [
            "gs://huge-prototype-ads-images/creative_images_input_raw/\n"
          ],
          "name": "stdout"
        }
      ]
    },
    {
      "cell_type": "code",
      "metadata": {
        "colab": {
          "base_uri": "https://localhost:8080/"
        },
        "id": "0JrPlDX0GqAx",
        "outputId": "ff5ab6a4-d379-4f61-ba2e-478e7c4508fd"
      },
      "source": [
        "!pip3 install google-cloud-storage"
      ],
      "execution_count": null,
      "outputs": [
        {
          "output_type": "stream",
          "text": [
            "Requirement already satisfied: google-cloud-storage in /usr/local/lib/python3.7/dist-packages (1.18.1)\n",
            "Requirement already satisfied: google-auth>=1.2.0 in /usr/local/lib/python3.7/dist-packages (from google-cloud-storage) (1.28.1)\n",
            "Requirement already satisfied: google-resumable-media<0.5.0dev,>=0.3.1 in /usr/local/lib/python3.7/dist-packages (from google-cloud-storage) (0.4.1)\n",
            "Requirement already satisfied: google-cloud-core<2.0dev,>=1.0.0 in /usr/local/lib/python3.7/dist-packages (from google-cloud-storage) (1.0.3)\n",
            "Requirement already satisfied: rsa<5,>=3.1.4; python_version >= \"3.6\" in /usr/local/lib/python3.7/dist-packages (from google-auth>=1.2.0->google-cloud-storage) (4.7.2)\n",
            "Requirement already satisfied: pyasn1-modules>=0.2.1 in /usr/local/lib/python3.7/dist-packages (from google-auth>=1.2.0->google-cloud-storage) (0.2.8)\n",
            "Requirement already satisfied: setuptools>=40.3.0 in /usr/local/lib/python3.7/dist-packages (from google-auth>=1.2.0->google-cloud-storage) (54.2.0)\n",
            "Requirement already satisfied: six>=1.9.0 in /usr/local/lib/python3.7/dist-packages (from google-auth>=1.2.0->google-cloud-storage) (1.15.0)\n",
            "Requirement already satisfied: cachetools<5.0,>=2.0.0 in /usr/local/lib/python3.7/dist-packages (from google-auth>=1.2.0->google-cloud-storage) (4.2.1)\n",
            "Requirement already satisfied: google-api-core<2.0.0dev,>=1.14.0 in /usr/local/lib/python3.7/dist-packages (from google-cloud-core<2.0dev,>=1.0.0->google-cloud-storage) (1.26.3)\n",
            "Requirement already satisfied: pyasn1>=0.1.3 in /usr/local/lib/python3.7/dist-packages (from rsa<5,>=3.1.4; python_version >= \"3.6\"->google-auth>=1.2.0->google-cloud-storage) (0.4.8)\n",
            "Requirement already satisfied: pytz in /usr/local/lib/python3.7/dist-packages (from google-api-core<2.0.0dev,>=1.14.0->google-cloud-core<2.0dev,>=1.0.0->google-cloud-storage) (2018.9)\n",
            "Requirement already satisfied: googleapis-common-protos<2.0dev,>=1.6.0 in /usr/local/lib/python3.7/dist-packages (from google-api-core<2.0.0dev,>=1.14.0->google-cloud-core<2.0dev,>=1.0.0->google-cloud-storage) (1.53.0)\n",
            "Requirement already satisfied: protobuf>=3.12.0 in /usr/local/lib/python3.7/dist-packages (from google-api-core<2.0.0dev,>=1.14.0->google-cloud-core<2.0dev,>=1.0.0->google-cloud-storage) (3.12.4)\n",
            "Requirement already satisfied: requests<3.0.0dev,>=2.18.0 in /usr/local/lib/python3.7/dist-packages (from google-api-core<2.0.0dev,>=1.14.0->google-cloud-core<2.0dev,>=1.0.0->google-cloud-storage) (2.23.0)\n",
            "Requirement already satisfied: packaging>=14.3 in /usr/local/lib/python3.7/dist-packages (from google-api-core<2.0.0dev,>=1.14.0->google-cloud-core<2.0dev,>=1.0.0->google-cloud-storage) (20.9)\n",
            "Requirement already satisfied: idna<3,>=2.5 in /usr/local/lib/python3.7/dist-packages (from requests<3.0.0dev,>=2.18.0->google-api-core<2.0.0dev,>=1.14.0->google-cloud-core<2.0dev,>=1.0.0->google-cloud-storage) (2.10)\n",
            "Requirement already satisfied: certifi>=2017.4.17 in /usr/local/lib/python3.7/dist-packages (from requests<3.0.0dev,>=2.18.0->google-api-core<2.0.0dev,>=1.14.0->google-cloud-core<2.0dev,>=1.0.0->google-cloud-storage) (2020.12.5)\n",
            "Requirement already satisfied: chardet<4,>=3.0.2 in /usr/local/lib/python3.7/dist-packages (from requests<3.0.0dev,>=2.18.0->google-api-core<2.0.0dev,>=1.14.0->google-cloud-core<2.0dev,>=1.0.0->google-cloud-storage) (3.0.4)\n",
            "Requirement already satisfied: urllib3!=1.25.0,!=1.25.1,<1.26,>=1.21.1 in /usr/local/lib/python3.7/dist-packages (from requests<3.0.0dev,>=2.18.0->google-api-core<2.0.0dev,>=1.14.0->google-cloud-core<2.0dev,>=1.0.0->google-cloud-storage) (1.24.3)\n",
            "Requirement already satisfied: pyparsing>=2.0.2 in /usr/local/lib/python3.7/dist-packages (from packaging>=14.3->google-api-core<2.0.0dev,>=1.14.0->google-cloud-core<2.0dev,>=1.0.0->google-cloud-storage) (2.4.7)\n"
          ],
          "name": "stdout"
        }
      ]
    },
    {
      "cell_type": "code",
      "metadata": {
        "id": "bxnX1kJ650Le"
      },
      "source": [
        "import io, json\n",
        "from google.cloud import vision_v1\n",
        "from google.cloud.vision_v1 import AnnotateImageResponse\n",
        "visionList = []\n",
        "fList=[]\n",
        "i=1\n",
        "for f in imageList:\n",
        "  annotatedImage = process_image(f)\n",
        "  serialized_proto_plus = AnnotateImageResponse.serialize(annotatedImage)\n",
        "  raw = AnnotateImageResponse.deserialize(serialized_proto_plus)\n",
        "  response_json = AnnotateImageResponse.to_json(raw)\n",
        "  response = json.loads(response_json)\n",
        "  visionList.append(response)\n",
        "  fList.append(f)\n",
        "\n"
      ],
      "execution_count": null,
      "outputs": []
    },
    {
      "cell_type": "code",
      "metadata": {
        "colab": {
          "base_uri": "https://localhost:8080/"
        },
        "id": "XAWR8Hy9QtQ4",
        "outputId": "b00650ab-b866-455a-e374-f1857b64c307"
      },
      "source": [
        "len('gs://huge-prototype-ads-images/creative_images_input_raw/')"
      ],
      "execution_count": null,
      "outputs": [
        {
          "output_type": "execute_result",
          "data": {
            "text/plain": [
              "57"
            ]
          },
          "metadata": {
            "tags": []
          },
          "execution_count": 15
        }
      ]
    },
    {
      "cell_type": "code",
      "metadata": {
        "colab": {
          "base_uri": "https://localhost:8080/"
        },
        "id": "PXnGlHJYHaZ7",
        "outputId": "c1d4cd65-d02a-4c32-a6c2-ff8289de3cb7"
      },
      "source": [
        "fList"
      ],
      "execution_count": null,
      "outputs": [
        {
          "output_type": "execute_result",
          "data": {
            "text/plain": [
              "['gs://huge-prototype-ads-images/creative_images_input_raw/']"
            ]
          },
          "metadata": {
            "tags": []
          },
          "execution_count": 16
        }
      ]
    },
    {
      "cell_type": "code",
      "metadata": {
        "id": "RAc-G8lcK2ak",
        "colab": {
          "base_uri": "https://localhost:8080/",
          "height": 130
        },
        "outputId": "6d9b6b74-1eed-423a-9b06-05f774d3a760"
      },
      "source": [
        "#This is only for label annotations...we need to pull out logo and font here as well... \n",
        " \n",
        "gcp_files_w_labels = pd.DataFrame(columns=['image_index','label', 'score', 'topicality'])\n",
        "for v in range(1,len(visionList)):\n",
        "  for d in range(1,len(visionList[v]['labelAnnotations'])):\n",
        "    gcp_files_w_labels = gcp_files_w_labels.append(\n",
        "        dict(\n",
        "        image_index=fList[v],\n",
        "        label=visionList[v]['labelAnnotations'][d]['description'],\n",
        "        score=visionList[v]['labelAnnotations'][d]['score'],\n",
        "        topicality=visionList[v]['labelAnnotations'][d]['topicality']\n",
        "      ), ignore_index=True)\n"
      ],
      "execution_count": null,
      "outputs": [
        {
          "output_type": "error",
          "ename": "IndentationError",
          "evalue": "ignored",
          "traceback": [
            "\u001b[0;36m  File \u001b[0;32m\"<ipython-input-18-9ef6f0643f6f>\"\u001b[0;36m, line \u001b[0;32m4\u001b[0m\n\u001b[0;31m    for v in range(1,len(visionList)):\u001b[0m\n\u001b[0m    ^\u001b[0m\n\u001b[0;31mIndentationError\u001b[0m\u001b[0;31m:\u001b[0m unexpected indent\n"
          ]
        }
      ]
    },
    {
      "cell_type": "code",
      "metadata": {
        "id": "JYzNpan-SK3E"
      },
      "source": [
        "gcp_files_w_labels['image'] = gcp_files_w_labels.image_index.str[57:]"
      ],
      "execution_count": null,
      "outputs": []
    },
    {
      "cell_type": "code",
      "metadata": {
        "colab": {
          "base_uri": "https://localhost:8080/",
          "height": 204
        },
        "id": "GGJ8obt1l6t4",
        "outputId": "a8d88a41-6643-4c6e-ad45-9adb6a9d3be0"
      },
      "source": [
        "gcp_files_w_labels.head()"
      ],
      "execution_count": null,
      "outputs": [
        {
          "output_type": "execute_result",
          "data": {
            "text/html": [
              "<div>\n",
              "<style scoped>\n",
              "    .dataframe tbody tr th:only-of-type {\n",
              "        vertical-align: middle;\n",
              "    }\n",
              "\n",
              "    .dataframe tbody tr th {\n",
              "        vertical-align: top;\n",
              "    }\n",
              "\n",
              "    .dataframe thead th {\n",
              "        text-align: right;\n",
              "    }\n",
              "</style>\n",
              "<table border=\"1\" class=\"dataframe\">\n",
              "  <thead>\n",
              "    <tr style=\"text-align: right;\">\n",
              "      <th></th>\n",
              "      <th>image_index</th>\n",
              "      <th>label</th>\n",
              "      <th>score</th>\n",
              "      <th>topicality</th>\n",
              "      <th>image</th>\n",
              "    </tr>\n",
              "  </thead>\n",
              "  <tbody>\n",
              "    <tr>\n",
              "      <th>0</th>\n",
              "      <td>gs://huge-prototype-ads-images/creative_images...</td>\n",
              "      <td>Product</td>\n",
              "      <td>0.907342</td>\n",
              "      <td>0.907342</td>\n",
              "      <td>021820_CTX_Workspace_Experience_SDWAN_OnDemand...</td>\n",
              "    </tr>\n",
              "    <tr>\n",
              "      <th>1</th>\n",
              "      <td>gs://huge-prototype-ads-images/creative_images...</td>\n",
              "      <td>Sleeve</td>\n",
              "      <td>0.871849</td>\n",
              "      <td>0.871849</td>\n",
              "      <td>021820_CTX_Workspace_Experience_SDWAN_OnDemand...</td>\n",
              "    </tr>\n",
              "    <tr>\n",
              "      <th>2</th>\n",
              "      <td>gs://huge-prototype-ads-images/creative_images...</td>\n",
              "      <td>Sharing</td>\n",
              "      <td>0.868859</td>\n",
              "      <td>0.868859</td>\n",
              "      <td>021820_CTX_Workspace_Experience_SDWAN_OnDemand...</td>\n",
              "    </tr>\n",
              "    <tr>\n",
              "      <th>3</th>\n",
              "      <td>gs://huge-prototype-ads-images/creative_images...</td>\n",
              "      <td>Font</td>\n",
              "      <td>0.852063</td>\n",
              "      <td>0.852063</td>\n",
              "      <td>021820_CTX_Workspace_Experience_SDWAN_OnDemand...</td>\n",
              "    </tr>\n",
              "    <tr>\n",
              "      <th>4</th>\n",
              "      <td>gs://huge-prototype-ads-images/creative_images...</td>\n",
              "      <td>Smile</td>\n",
              "      <td>0.845074</td>\n",
              "      <td>0.845074</td>\n",
              "      <td>021820_CTX_Workspace_Experience_SDWAN_OnDemand...</td>\n",
              "    </tr>\n",
              "  </tbody>\n",
              "</table>\n",
              "</div>"
            ],
            "text/plain": [
              "                                         image_index  ...                                              image\n",
              "0  gs://huge-prototype-ads-images/creative_images...  ...  021820_CTX_Workspace_Experience_SDWAN_OnDemand...\n",
              "1  gs://huge-prototype-ads-images/creative_images...  ...  021820_CTX_Workspace_Experience_SDWAN_OnDemand...\n",
              "2  gs://huge-prototype-ads-images/creative_images...  ...  021820_CTX_Workspace_Experience_SDWAN_OnDemand...\n",
              "3  gs://huge-prototype-ads-images/creative_images...  ...  021820_CTX_Workspace_Experience_SDWAN_OnDemand...\n",
              "4  gs://huge-prototype-ads-images/creative_images...  ...  021820_CTX_Workspace_Experience_SDWAN_OnDemand...\n",
              "\n",
              "[5 rows x 5 columns]"
            ]
          },
          "metadata": {
            "tags": []
          },
          "execution_count": 31
        }
      ]
    },
    {
      "cell_type": "code",
      "metadata": {
        "colab": {
          "base_uri": "https://localhost:8080/"
        },
        "id": "y_Ns1VZUelv_",
        "outputId": "45f0f57c-ba77-4ad5-ec26-291a6f22d193"
      },
      "source": [
        "list(gcp_files_w_labels.label.unique())"
      ],
      "execution_count": null,
      "outputs": [
        {
          "output_type": "execute_result",
          "data": {
            "text/plain": [
              "['Product',\n",
              " 'Sleeve',\n",
              " 'Sharing',\n",
              " 'Font',\n",
              " 'Smile',\n",
              " 'Output device',\n",
              " 'T-shirt',\n",
              " 'Adaptation',\n",
              " 'People',\n",
              " 'Yellow',\n",
              " 'Building',\n",
              " 'Technology',\n",
              " 'Design',\n",
              " 'Advertising',\n",
              " 'Engineering',\n",
              " 'Logo',\n",
              " 'Brand',\n",
              " 'Line',\n",
              " 'Laptop',\n",
              " 'Computer',\n",
              " 'Circle',\n",
              " 'Gesture',\n",
              " 'Community',\n",
              " 'Happy',\n",
              " 'Mobile phone',\n",
              " 'Communication Device',\n",
              " 'Sky',\n",
              " 'Electric blue',\n",
              " 'Art',\n",
              " 'Rectangle',\n",
              " 'Graphics',\n",
              " 'World',\n",
              " 'Blue',\n",
              " 'Azure',\n",
              " 'Dress shirt',\n",
              " 'Terrestrial plant',\n",
              " 'Transport',\n",
              " 'Parallel',\n",
              " 'Slope',\n",
              " 'Science',\n",
              " 'Banner',\n",
              " 'Travel',\n",
              " 'Event',\n",
              " 'Dog',\n",
              " 'Personal computer',\n",
              " 'Poster',\n",
              " 'Companion dog',\n",
              " 'Pattern',\n",
              " 'Hand',\n",
              " 'Arm',\n",
              " 'Tableware',\n",
              " 'Office supplies',\n",
              " 'Organism']"
            ]
          },
          "metadata": {
            "tags": []
          },
          "execution_count": 42
        }
      ]
    },
    {
      "cell_type": "code",
      "metadata": {
        "id": "0wsryO03eYyK"
      },
      "source": [
        "gcp_files_w_labels.to_csv('/content/drive/MyDrive/ImageAnnotator/images_labeled.csv', index = False)"
      ],
      "execution_count": null,
      "outputs": []
    },
    {
      "cell_type": "markdown",
      "metadata": {
        "id": "dXMm-vPwGwwH"
      },
      "source": [
        "## Connect DataFrame to Performance Data and Labeled Data THEN One Hot Encode Labels to Run"
      ]
    },
    {
      "cell_type": "code",
      "metadata": {
        "colab": {
          "base_uri": "https://localhost:8080/"
        },
        "id": "llw44QbAJpgb",
        "outputId": "a6969b54-b3dc-4a91-ec55-d28a4e517176"
      },
      "source": [
        "!gsutil ls gs://huge-prototype-ads-images/creative_images_performance_input_raw/"
      ],
      "execution_count": null,
      "outputs": [
        {
          "output_type": "stream",
          "text": [
            "gs://huge-prototype-ads-images/creative_images_performance_input_raw/\n",
            "gs://huge-prototype-ads-images/creative_images_performance_input_raw/advertiser_filename_testout.csv\n",
            "gs://huge-prototype-ads-images/creative_images_performance_input_raw/creative_images_performance_input_raw_creative_images_performance_input_raw_advertiser_filename_testout.csv\n"
          ],
          "name": "stdout"
        }
      ]
    },
    {
      "cell_type": "code",
      "metadata": {
        "colab": {
          "base_uri": "https://localhost:8080/"
        },
        "id": "CZFwj695GvrE",
        "outputId": "1afcfc27-e9c5-4f73-c6cb-2c79d1ef9dff"
      },
      "source": [
        "!gsutil cp gs://huge-prototype-ads-images/creative_images_performance_input_raw/creative_images_performance_input_raw_creative_images_performance_input_raw_advertiser_filename_testout.csv . "
      ],
      "execution_count": null,
      "outputs": [
        {
          "output_type": "stream",
          "text": [
            "Copying gs://huge-prototype-ads-images/creative_images_performance_input_raw/creative_images_performance_input_raw_creative_images_performance_input_raw_advertiser_filename_testout.csv...\n",
            "/ [0 files][    0.0 B/  2.2 KiB]                                                \r/ [1 files][  2.2 KiB/  2.2 KiB]                                                \r\n",
            "Operation completed over 1 objects/2.2 KiB.                                      \n"
          ],
          "name": "stdout"
        }
      ]
    },
    {
      "cell_type": "code",
      "metadata": {
        "id": "Gv29wnQBGvuS"
      },
      "source": [
        "performance = pd.read_csv('/content/creative_images_performance_input_raw_creative_images_performance_input_raw_advertiser_filename_testout.csv')"
      ],
      "execution_count": null,
      "outputs": []
    },
    {
      "cell_type": "code",
      "metadata": {
        "colab": {
          "base_uri": "https://localhost:8080/"
        },
        "id": "FWLtguVtK9QB",
        "outputId": "91937230-d4ce-4f26-bc1e-da2cefb4d4ea"
      },
      "source": [
        "\n",
        "#df['image'] in performance['Filename']\n",
        "#any(df['image'].isin(performance['Filename']))\n",
        "sum(performance['Filename'].isin(gcp_files_w_labels['image']))"
      ],
      "execution_count": null,
      "outputs": [
        {
          "output_type": "execute_result",
          "data": {
            "text/plain": [
              "10"
            ]
          },
          "metadata": {
            "tags": []
          },
          "execution_count": 37
        }
      ]
    },
    {
      "cell_type": "code",
      "metadata": {
        "id": "K376gRR9KYft"
      },
      "source": [
        "#substring the df with the full "
      ],
      "execution_count": null,
      "outputs": []
    },
    {
      "cell_type": "code",
      "metadata": {
        "colab": {
          "base_uri": "https://localhost:8080/"
        },
        "id": "0Hdof_73eEqN",
        "outputId": "ab3fed3e-b8b1-4ad2-f38c-9ec58c800530"
      },
      "source": [
        "performance.shape"
      ],
      "execution_count": null,
      "outputs": [
        {
          "output_type": "execute_result",
          "data": {
            "text/plain": [
              "(23, 7)"
            ]
          },
          "metadata": {
            "tags": []
          },
          "execution_count": 98
        }
      ]
    },
    {
      "cell_type": "markdown",
      "metadata": {
        "id": "BA3pmKxXYEoD"
      },
      "source": [
        "# BOOM"
      ]
    },
    {
      "cell_type": "code",
      "metadata": {
        "id": "vWsLabfzN1qq"
      },
      "source": [
        "##this is miracle code ##\n",
        "proper_1_hot = gcp_files_w_labels.set_index('image')['label'].str.get_dummies().max(level=0).reset_index()"
      ],
      "execution_count": null,
      "outputs": []
    },
    {
      "cell_type": "code",
      "metadata": {
        "colab": {
          "base_uri": "https://localhost:8080/",
          "height": 582
        },
        "id": "MVOoyZzIXfm1",
        "outputId": "04f3fd21-fb1d-405d-ebc9-7c23ff25a446"
      },
      "source": [
        "proper_1_hot"
      ],
      "execution_count": null,
      "outputs": [
        {
          "output_type": "execute_result",
          "data": {
            "text/html": [
              "<div>\n",
              "<style scoped>\n",
              "    .dataframe tbody tr th:only-of-type {\n",
              "        vertical-align: middle;\n",
              "    }\n",
              "\n",
              "    .dataframe tbody tr th {\n",
              "        vertical-align: top;\n",
              "    }\n",
              "\n",
              "    .dataframe thead th {\n",
              "        text-align: right;\n",
              "    }\n",
              "</style>\n",
              "<table border=\"1\" class=\"dataframe\">\n",
              "  <thead>\n",
              "    <tr style=\"text-align: right;\">\n",
              "      <th></th>\n",
              "      <th>image</th>\n",
              "      <th>Adaptation</th>\n",
              "      <th>Advertising</th>\n",
              "      <th>Arm</th>\n",
              "      <th>Art</th>\n",
              "      <th>Azure</th>\n",
              "      <th>Banner</th>\n",
              "      <th>Blue</th>\n",
              "      <th>Brand</th>\n",
              "      <th>Building</th>\n",
              "      <th>Circle</th>\n",
              "      <th>Communication Device</th>\n",
              "      <th>Community</th>\n",
              "      <th>Companion dog</th>\n",
              "      <th>Computer</th>\n",
              "      <th>Design</th>\n",
              "      <th>Dog</th>\n",
              "      <th>Dress shirt</th>\n",
              "      <th>Electric blue</th>\n",
              "      <th>Engineering</th>\n",
              "      <th>Event</th>\n",
              "      <th>Eyewear</th>\n",
              "      <th>Font</th>\n",
              "      <th>Gesture</th>\n",
              "      <th>Graphics</th>\n",
              "      <th>Hand</th>\n",
              "      <th>Happy</th>\n",
              "      <th>Laptop</th>\n",
              "      <th>Line</th>\n",
              "      <th>Logo</th>\n",
              "      <th>Mobile phone</th>\n",
              "      <th>Office supplies</th>\n",
              "      <th>Organism</th>\n",
              "      <th>Output device</th>\n",
              "      <th>Parallel</th>\n",
              "      <th>Pattern</th>\n",
              "      <th>People</th>\n",
              "      <th>Personal computer</th>\n",
              "      <th>Photo caption</th>\n",
              "      <th>Poster</th>\n",
              "      <th>Product</th>\n",
              "      <th>Rectangle</th>\n",
              "      <th>Science</th>\n",
              "      <th>Sharing</th>\n",
              "      <th>Sky</th>\n",
              "      <th>Sleeve</th>\n",
              "      <th>Slope</th>\n",
              "      <th>Smile</th>\n",
              "      <th>T-shirt</th>\n",
              "      <th>Tableware</th>\n",
              "      <th>Technology</th>\n",
              "      <th>Terrestrial plant</th>\n",
              "      <th>Transport</th>\n",
              "      <th>Travel</th>\n",
              "      <th>Vision care</th>\n",
              "      <th>World</th>\n",
              "      <th>Yellow</th>\n",
              "    </tr>\n",
              "  </thead>\n",
              "  <tbody>\n",
              "    <tr>\n",
              "      <th>0</th>\n",
              "      <td>021820_CTX_Workspace_Experience_SDWAN_OnDemand...</td>\n",
              "      <td>1</td>\n",
              "      <td>0</td>\n",
              "      <td>0</td>\n",
              "      <td>0</td>\n",
              "      <td>0</td>\n",
              "      <td>0</td>\n",
              "      <td>0</td>\n",
              "      <td>0</td>\n",
              "      <td>0</td>\n",
              "      <td>0</td>\n",
              "      <td>0</td>\n",
              "      <td>0</td>\n",
              "      <td>0</td>\n",
              "      <td>0</td>\n",
              "      <td>0</td>\n",
              "      <td>0</td>\n",
              "      <td>0</td>\n",
              "      <td>0</td>\n",
              "      <td>0</td>\n",
              "      <td>0</td>\n",
              "      <td>0</td>\n",
              "      <td>1</td>\n",
              "      <td>0</td>\n",
              "      <td>0</td>\n",
              "      <td>0</td>\n",
              "      <td>0</td>\n",
              "      <td>0</td>\n",
              "      <td>0</td>\n",
              "      <td>0</td>\n",
              "      <td>0</td>\n",
              "      <td>0</td>\n",
              "      <td>0</td>\n",
              "      <td>1</td>\n",
              "      <td>0</td>\n",
              "      <td>0</td>\n",
              "      <td>1</td>\n",
              "      <td>0</td>\n",
              "      <td>0</td>\n",
              "      <td>0</td>\n",
              "      <td>1</td>\n",
              "      <td>0</td>\n",
              "      <td>0</td>\n",
              "      <td>1</td>\n",
              "      <td>0</td>\n",
              "      <td>1</td>\n",
              "      <td>0</td>\n",
              "      <td>1</td>\n",
              "      <td>1</td>\n",
              "      <td>0</td>\n",
              "      <td>0</td>\n",
              "      <td>0</td>\n",
              "      <td>0</td>\n",
              "      <td>0</td>\n",
              "      <td>0</td>\n",
              "      <td>0</td>\n",
              "      <td>0</td>\n",
              "    </tr>\n",
              "    <tr>\n",
              "      <th>1</th>\n",
              "      <td>08062020-163202805-082819_CTX_ADM_Cloud_Native...</td>\n",
              "      <td>0</td>\n",
              "      <td>1</td>\n",
              "      <td>0</td>\n",
              "      <td>0</td>\n",
              "      <td>0</td>\n",
              "      <td>0</td>\n",
              "      <td>0</td>\n",
              "      <td>1</td>\n",
              "      <td>1</td>\n",
              "      <td>0</td>\n",
              "      <td>0</td>\n",
              "      <td>0</td>\n",
              "      <td>0</td>\n",
              "      <td>0</td>\n",
              "      <td>1</td>\n",
              "      <td>0</td>\n",
              "      <td>0</td>\n",
              "      <td>0</td>\n",
              "      <td>1</td>\n",
              "      <td>0</td>\n",
              "      <td>0</td>\n",
              "      <td>1</td>\n",
              "      <td>0</td>\n",
              "      <td>0</td>\n",
              "      <td>0</td>\n",
              "      <td>0</td>\n",
              "      <td>0</td>\n",
              "      <td>0</td>\n",
              "      <td>1</td>\n",
              "      <td>0</td>\n",
              "      <td>0</td>\n",
              "      <td>0</td>\n",
              "      <td>0</td>\n",
              "      <td>0</td>\n",
              "      <td>0</td>\n",
              "      <td>0</td>\n",
              "      <td>0</td>\n",
              "      <td>0</td>\n",
              "      <td>0</td>\n",
              "      <td>0</td>\n",
              "      <td>0</td>\n",
              "      <td>0</td>\n",
              "      <td>0</td>\n",
              "      <td>0</td>\n",
              "      <td>0</td>\n",
              "      <td>0</td>\n",
              "      <td>0</td>\n",
              "      <td>0</td>\n",
              "      <td>0</td>\n",
              "      <td>1</td>\n",
              "      <td>0</td>\n",
              "      <td>0</td>\n",
              "      <td>0</td>\n",
              "      <td>0</td>\n",
              "      <td>0</td>\n",
              "      <td>1</td>\n",
              "    </tr>\n",
              "    <tr>\n",
              "      <th>2</th>\n",
              "      <td>08062020-163205850-082819_CTX_ADM_Cloud_Native...</td>\n",
              "      <td>0</td>\n",
              "      <td>1</td>\n",
              "      <td>0</td>\n",
              "      <td>0</td>\n",
              "      <td>0</td>\n",
              "      <td>0</td>\n",
              "      <td>0</td>\n",
              "      <td>0</td>\n",
              "      <td>0</td>\n",
              "      <td>1</td>\n",
              "      <td>0</td>\n",
              "      <td>0</td>\n",
              "      <td>0</td>\n",
              "      <td>1</td>\n",
              "      <td>0</td>\n",
              "      <td>0</td>\n",
              "      <td>0</td>\n",
              "      <td>0</td>\n",
              "      <td>1</td>\n",
              "      <td>0</td>\n",
              "      <td>0</td>\n",
              "      <td>1</td>\n",
              "      <td>0</td>\n",
              "      <td>0</td>\n",
              "      <td>0</td>\n",
              "      <td>0</td>\n",
              "      <td>1</td>\n",
              "      <td>1</td>\n",
              "      <td>0</td>\n",
              "      <td>0</td>\n",
              "      <td>0</td>\n",
              "      <td>0</td>\n",
              "      <td>1</td>\n",
              "      <td>0</td>\n",
              "      <td>0</td>\n",
              "      <td>0</td>\n",
              "      <td>0</td>\n",
              "      <td>0</td>\n",
              "      <td>0</td>\n",
              "      <td>0</td>\n",
              "      <td>0</td>\n",
              "      <td>0</td>\n",
              "      <td>0</td>\n",
              "      <td>0</td>\n",
              "      <td>0</td>\n",
              "      <td>0</td>\n",
              "      <td>0</td>\n",
              "      <td>0</td>\n",
              "      <td>0</td>\n",
              "      <td>1</td>\n",
              "      <td>0</td>\n",
              "      <td>0</td>\n",
              "      <td>0</td>\n",
              "      <td>0</td>\n",
              "      <td>0</td>\n",
              "      <td>0</td>\n",
              "    </tr>\n",
              "    <tr>\n",
              "      <th>3</th>\n",
              "      <td>081219_CTX_ADM_Hybrid_Multicloud_Webinar_OnDem...</td>\n",
              "      <td>0</td>\n",
              "      <td>0</td>\n",
              "      <td>0</td>\n",
              "      <td>0</td>\n",
              "      <td>0</td>\n",
              "      <td>0</td>\n",
              "      <td>0</td>\n",
              "      <td>0</td>\n",
              "      <td>0</td>\n",
              "      <td>0</td>\n",
              "      <td>1</td>\n",
              "      <td>1</td>\n",
              "      <td>0</td>\n",
              "      <td>0</td>\n",
              "      <td>0</td>\n",
              "      <td>0</td>\n",
              "      <td>0</td>\n",
              "      <td>0</td>\n",
              "      <td>0</td>\n",
              "      <td>0</td>\n",
              "      <td>0</td>\n",
              "      <td>1</td>\n",
              "      <td>1</td>\n",
              "      <td>0</td>\n",
              "      <td>0</td>\n",
              "      <td>1</td>\n",
              "      <td>0</td>\n",
              "      <td>0</td>\n",
              "      <td>0</td>\n",
              "      <td>1</td>\n",
              "      <td>0</td>\n",
              "      <td>0</td>\n",
              "      <td>0</td>\n",
              "      <td>0</td>\n",
              "      <td>0</td>\n",
              "      <td>0</td>\n",
              "      <td>0</td>\n",
              "      <td>0</td>\n",
              "      <td>0</td>\n",
              "      <td>0</td>\n",
              "      <td>0</td>\n",
              "      <td>0</td>\n",
              "      <td>1</td>\n",
              "      <td>0</td>\n",
              "      <td>1</td>\n",
              "      <td>0</td>\n",
              "      <td>0</td>\n",
              "      <td>0</td>\n",
              "      <td>0</td>\n",
              "      <td>1</td>\n",
              "      <td>0</td>\n",
              "      <td>0</td>\n",
              "      <td>0</td>\n",
              "      <td>0</td>\n",
              "      <td>0</td>\n",
              "      <td>0</td>\n",
              "    </tr>\n",
              "    <tr>\n",
              "      <th>4</th>\n",
              "      <td>082819_CTX_ADM_Cloud_Native_Application_Delive...</td>\n",
              "      <td>0</td>\n",
              "      <td>1</td>\n",
              "      <td>0</td>\n",
              "      <td>0</td>\n",
              "      <td>0</td>\n",
              "      <td>0</td>\n",
              "      <td>0</td>\n",
              "      <td>0</td>\n",
              "      <td>0</td>\n",
              "      <td>1</td>\n",
              "      <td>0</td>\n",
              "      <td>0</td>\n",
              "      <td>0</td>\n",
              "      <td>1</td>\n",
              "      <td>0</td>\n",
              "      <td>0</td>\n",
              "      <td>0</td>\n",
              "      <td>0</td>\n",
              "      <td>1</td>\n",
              "      <td>0</td>\n",
              "      <td>0</td>\n",
              "      <td>1</td>\n",
              "      <td>0</td>\n",
              "      <td>0</td>\n",
              "      <td>0</td>\n",
              "      <td>0</td>\n",
              "      <td>1</td>\n",
              "      <td>1</td>\n",
              "      <td>0</td>\n",
              "      <td>0</td>\n",
              "      <td>0</td>\n",
              "      <td>0</td>\n",
              "      <td>1</td>\n",
              "      <td>0</td>\n",
              "      <td>0</td>\n",
              "      <td>0</td>\n",
              "      <td>0</td>\n",
              "      <td>0</td>\n",
              "      <td>0</td>\n",
              "      <td>0</td>\n",
              "      <td>0</td>\n",
              "      <td>0</td>\n",
              "      <td>0</td>\n",
              "      <td>0</td>\n",
              "      <td>0</td>\n",
              "      <td>0</td>\n",
              "      <td>0</td>\n",
              "      <td>0</td>\n",
              "      <td>0</td>\n",
              "      <td>1</td>\n",
              "      <td>0</td>\n",
              "      <td>0</td>\n",
              "      <td>0</td>\n",
              "      <td>0</td>\n",
              "      <td>0</td>\n",
              "      <td>0</td>\n",
              "    </tr>\n",
              "    <tr>\n",
              "      <th>5</th>\n",
              "      <td>728x90_B.jpg</td>\n",
              "      <td>0</td>\n",
              "      <td>0</td>\n",
              "      <td>0</td>\n",
              "      <td>1</td>\n",
              "      <td>0</td>\n",
              "      <td>0</td>\n",
              "      <td>0</td>\n",
              "      <td>1</td>\n",
              "      <td>0</td>\n",
              "      <td>1</td>\n",
              "      <td>0</td>\n",
              "      <td>0</td>\n",
              "      <td>0</td>\n",
              "      <td>0</td>\n",
              "      <td>0</td>\n",
              "      <td>0</td>\n",
              "      <td>0</td>\n",
              "      <td>1</td>\n",
              "      <td>0</td>\n",
              "      <td>0</td>\n",
              "      <td>0</td>\n",
              "      <td>1</td>\n",
              "      <td>0</td>\n",
              "      <td>1</td>\n",
              "      <td>0</td>\n",
              "      <td>0</td>\n",
              "      <td>0</td>\n",
              "      <td>0</td>\n",
              "      <td>1</td>\n",
              "      <td>0</td>\n",
              "      <td>0</td>\n",
              "      <td>0</td>\n",
              "      <td>0</td>\n",
              "      <td>0</td>\n",
              "      <td>0</td>\n",
              "      <td>0</td>\n",
              "      <td>0</td>\n",
              "      <td>0</td>\n",
              "      <td>0</td>\n",
              "      <td>0</td>\n",
              "      <td>1</td>\n",
              "      <td>0</td>\n",
              "      <td>0</td>\n",
              "      <td>1</td>\n",
              "      <td>0</td>\n",
              "      <td>0</td>\n",
              "      <td>0</td>\n",
              "      <td>0</td>\n",
              "      <td>0</td>\n",
              "      <td>0</td>\n",
              "      <td>0</td>\n",
              "      <td>0</td>\n",
              "      <td>0</td>\n",
              "      <td>0</td>\n",
              "      <td>0</td>\n",
              "      <td>0</td>\n",
              "    </tr>\n",
              "    <tr>\n",
              "      <th>6</th>\n",
              "      <td>ADC_Guide_DA-300x600.jpg</td>\n",
              "      <td>1</td>\n",
              "      <td>0</td>\n",
              "      <td>0</td>\n",
              "      <td>0</td>\n",
              "      <td>1</td>\n",
              "      <td>0</td>\n",
              "      <td>1</td>\n",
              "      <td>0</td>\n",
              "      <td>0</td>\n",
              "      <td>0</td>\n",
              "      <td>0</td>\n",
              "      <td>1</td>\n",
              "      <td>0</td>\n",
              "      <td>0</td>\n",
              "      <td>0</td>\n",
              "      <td>0</td>\n",
              "      <td>1</td>\n",
              "      <td>0</td>\n",
              "      <td>0</td>\n",
              "      <td>0</td>\n",
              "      <td>0</td>\n",
              "      <td>1</td>\n",
              "      <td>0</td>\n",
              "      <td>0</td>\n",
              "      <td>0</td>\n",
              "      <td>0</td>\n",
              "      <td>0</td>\n",
              "      <td>0</td>\n",
              "      <td>0</td>\n",
              "      <td>0</td>\n",
              "      <td>0</td>\n",
              "      <td>0</td>\n",
              "      <td>0</td>\n",
              "      <td>0</td>\n",
              "      <td>0</td>\n",
              "      <td>0</td>\n",
              "      <td>0</td>\n",
              "      <td>0</td>\n",
              "      <td>0</td>\n",
              "      <td>1</td>\n",
              "      <td>0</td>\n",
              "      <td>0</td>\n",
              "      <td>0</td>\n",
              "      <td>0</td>\n",
              "      <td>0</td>\n",
              "      <td>0</td>\n",
              "      <td>0</td>\n",
              "      <td>1</td>\n",
              "      <td>0</td>\n",
              "      <td>0</td>\n",
              "      <td>0</td>\n",
              "      <td>0</td>\n",
              "      <td>0</td>\n",
              "      <td>0</td>\n",
              "      <td>1</td>\n",
              "      <td>0</td>\n",
              "    </tr>\n",
              "    <tr>\n",
              "      <th>7</th>\n",
              "      <td>Banner_Vertical_Narrow_160x600.jpg</td>\n",
              "      <td>0</td>\n",
              "      <td>0</td>\n",
              "      <td>0</td>\n",
              "      <td>0</td>\n",
              "      <td>0</td>\n",
              "      <td>0</td>\n",
              "      <td>0</td>\n",
              "      <td>1</td>\n",
              "      <td>0</td>\n",
              "      <td>0</td>\n",
              "      <td>0</td>\n",
              "      <td>0</td>\n",
              "      <td>0</td>\n",
              "      <td>0</td>\n",
              "      <td>0</td>\n",
              "      <td>0</td>\n",
              "      <td>0</td>\n",
              "      <td>1</td>\n",
              "      <td>1</td>\n",
              "      <td>0</td>\n",
              "      <td>0</td>\n",
              "      <td>1</td>\n",
              "      <td>0</td>\n",
              "      <td>0</td>\n",
              "      <td>0</td>\n",
              "      <td>0</td>\n",
              "      <td>0</td>\n",
              "      <td>0</td>\n",
              "      <td>0</td>\n",
              "      <td>0</td>\n",
              "      <td>0</td>\n",
              "      <td>0</td>\n",
              "      <td>0</td>\n",
              "      <td>1</td>\n",
              "      <td>0</td>\n",
              "      <td>0</td>\n",
              "      <td>0</td>\n",
              "      <td>0</td>\n",
              "      <td>0</td>\n",
              "      <td>0</td>\n",
              "      <td>1</td>\n",
              "      <td>0</td>\n",
              "      <td>0</td>\n",
              "      <td>0</td>\n",
              "      <td>0</td>\n",
              "      <td>0</td>\n",
              "      <td>0</td>\n",
              "      <td>0</td>\n",
              "      <td>0</td>\n",
              "      <td>0</td>\n",
              "      <td>1</td>\n",
              "      <td>1</td>\n",
              "      <td>0</td>\n",
              "      <td>0</td>\n",
              "      <td>0</td>\n",
              "      <td>0</td>\n",
              "    </tr>\n",
              "    <tr>\n",
              "      <th>8</th>\n",
              "      <td>Citrix_Q2_ADC-Infographic_300x600.jpg</td>\n",
              "      <td>0</td>\n",
              "      <td>1</td>\n",
              "      <td>0</td>\n",
              "      <td>0</td>\n",
              "      <td>0</td>\n",
              "      <td>0</td>\n",
              "      <td>0</td>\n",
              "      <td>0</td>\n",
              "      <td>0</td>\n",
              "      <td>0</td>\n",
              "      <td>0</td>\n",
              "      <td>0</td>\n",
              "      <td>0</td>\n",
              "      <td>0</td>\n",
              "      <td>0</td>\n",
              "      <td>0</td>\n",
              "      <td>0</td>\n",
              "      <td>0</td>\n",
              "      <td>0</td>\n",
              "      <td>1</td>\n",
              "      <td>0</td>\n",
              "      <td>1</td>\n",
              "      <td>1</td>\n",
              "      <td>0</td>\n",
              "      <td>0</td>\n",
              "      <td>1</td>\n",
              "      <td>0</td>\n",
              "      <td>0</td>\n",
              "      <td>0</td>\n",
              "      <td>1</td>\n",
              "      <td>0</td>\n",
              "      <td>0</td>\n",
              "      <td>0</td>\n",
              "      <td>0</td>\n",
              "      <td>0</td>\n",
              "      <td>0</td>\n",
              "      <td>0</td>\n",
              "      <td>0</td>\n",
              "      <td>0</td>\n",
              "      <td>0</td>\n",
              "      <td>0</td>\n",
              "      <td>0</td>\n",
              "      <td>1</td>\n",
              "      <td>0</td>\n",
              "      <td>0</td>\n",
              "      <td>0</td>\n",
              "      <td>0</td>\n",
              "      <td>0</td>\n",
              "      <td>0</td>\n",
              "      <td>0</td>\n",
              "      <td>1</td>\n",
              "      <td>0</td>\n",
              "      <td>1</td>\n",
              "      <td>0</td>\n",
              "      <td>0</td>\n",
              "      <td>0</td>\n",
              "    </tr>\n",
              "    <tr>\n",
              "      <th>9</th>\n",
              "      <td>Citrix_Q2_SD-WAN-Solution-Brief_300x600.jpg</td>\n",
              "      <td>0</td>\n",
              "      <td>0</td>\n",
              "      <td>0</td>\n",
              "      <td>0</td>\n",
              "      <td>0</td>\n",
              "      <td>0</td>\n",
              "      <td>0</td>\n",
              "      <td>0</td>\n",
              "      <td>0</td>\n",
              "      <td>0</td>\n",
              "      <td>0</td>\n",
              "      <td>0</td>\n",
              "      <td>1</td>\n",
              "      <td>0</td>\n",
              "      <td>0</td>\n",
              "      <td>1</td>\n",
              "      <td>0</td>\n",
              "      <td>0</td>\n",
              "      <td>0</td>\n",
              "      <td>0</td>\n",
              "      <td>0</td>\n",
              "      <td>1</td>\n",
              "      <td>0</td>\n",
              "      <td>0</td>\n",
              "      <td>0</td>\n",
              "      <td>0</td>\n",
              "      <td>1</td>\n",
              "      <td>0</td>\n",
              "      <td>0</td>\n",
              "      <td>0</td>\n",
              "      <td>0</td>\n",
              "      <td>0</td>\n",
              "      <td>1</td>\n",
              "      <td>0</td>\n",
              "      <td>0</td>\n",
              "      <td>0</td>\n",
              "      <td>1</td>\n",
              "      <td>0</td>\n",
              "      <td>1</td>\n",
              "      <td>1</td>\n",
              "      <td>0</td>\n",
              "      <td>0</td>\n",
              "      <td>0</td>\n",
              "      <td>0</td>\n",
              "      <td>0</td>\n",
              "      <td>0</td>\n",
              "      <td>1</td>\n",
              "      <td>0</td>\n",
              "      <td>0</td>\n",
              "      <td>0</td>\n",
              "      <td>0</td>\n",
              "      <td>0</td>\n",
              "      <td>0</td>\n",
              "      <td>0</td>\n",
              "      <td>0</td>\n",
              "      <td>0</td>\n",
              "    </tr>\n",
              "    <tr>\n",
              "      <th>10</th>\n",
              "      <td>Cloud_Networking_7_Key_Considerations_300x600.jpg</td>\n",
              "      <td>0</td>\n",
              "      <td>1</td>\n",
              "      <td>0</td>\n",
              "      <td>0</td>\n",
              "      <td>0</td>\n",
              "      <td>1</td>\n",
              "      <td>0</td>\n",
              "      <td>1</td>\n",
              "      <td>0</td>\n",
              "      <td>1</td>\n",
              "      <td>0</td>\n",
              "      <td>0</td>\n",
              "      <td>0</td>\n",
              "      <td>0</td>\n",
              "      <td>0</td>\n",
              "      <td>0</td>\n",
              "      <td>0</td>\n",
              "      <td>1</td>\n",
              "      <td>0</td>\n",
              "      <td>0</td>\n",
              "      <td>0</td>\n",
              "      <td>0</td>\n",
              "      <td>0</td>\n",
              "      <td>0</td>\n",
              "      <td>0</td>\n",
              "      <td>0</td>\n",
              "      <td>0</td>\n",
              "      <td>0</td>\n",
              "      <td>0</td>\n",
              "      <td>0</td>\n",
              "      <td>0</td>\n",
              "      <td>0</td>\n",
              "      <td>0</td>\n",
              "      <td>0</td>\n",
              "      <td>0</td>\n",
              "      <td>0</td>\n",
              "      <td>0</td>\n",
              "      <td>0</td>\n",
              "      <td>0</td>\n",
              "      <td>0</td>\n",
              "      <td>0</td>\n",
              "      <td>1</td>\n",
              "      <td>0</td>\n",
              "      <td>0</td>\n",
              "      <td>0</td>\n",
              "      <td>1</td>\n",
              "      <td>0</td>\n",
              "      <td>0</td>\n",
              "      <td>0</td>\n",
              "      <td>1</td>\n",
              "      <td>1</td>\n",
              "      <td>0</td>\n",
              "      <td>0</td>\n",
              "      <td>0</td>\n",
              "      <td>0</td>\n",
              "      <td>0</td>\n",
              "    </tr>\n",
              "    <tr>\n",
              "      <th>11</th>\n",
              "      <td>Cloud_Networking_Cloud_Network_Video_300x250.jpg</td>\n",
              "      <td>0</td>\n",
              "      <td>0</td>\n",
              "      <td>0</td>\n",
              "      <td>0</td>\n",
              "      <td>0</td>\n",
              "      <td>0</td>\n",
              "      <td>0</td>\n",
              "      <td>1</td>\n",
              "      <td>0</td>\n",
              "      <td>1</td>\n",
              "      <td>0</td>\n",
              "      <td>0</td>\n",
              "      <td>0</td>\n",
              "      <td>0</td>\n",
              "      <td>0</td>\n",
              "      <td>0</td>\n",
              "      <td>0</td>\n",
              "      <td>1</td>\n",
              "      <td>0</td>\n",
              "      <td>1</td>\n",
              "      <td>0</td>\n",
              "      <td>1</td>\n",
              "      <td>0</td>\n",
              "      <td>1</td>\n",
              "      <td>0</td>\n",
              "      <td>0</td>\n",
              "      <td>0</td>\n",
              "      <td>0</td>\n",
              "      <td>1</td>\n",
              "      <td>0</td>\n",
              "      <td>0</td>\n",
              "      <td>0</td>\n",
              "      <td>0</td>\n",
              "      <td>0</td>\n",
              "      <td>1</td>\n",
              "      <td>0</td>\n",
              "      <td>0</td>\n",
              "      <td>0</td>\n",
              "      <td>0</td>\n",
              "      <td>0</td>\n",
              "      <td>0</td>\n",
              "      <td>1</td>\n",
              "      <td>0</td>\n",
              "      <td>0</td>\n",
              "      <td>0</td>\n",
              "      <td>0</td>\n",
              "      <td>0</td>\n",
              "      <td>0</td>\n",
              "      <td>0</td>\n",
              "      <td>0</td>\n",
              "      <td>0</td>\n",
              "      <td>0</td>\n",
              "      <td>0</td>\n",
              "      <td>0</td>\n",
              "      <td>0</td>\n",
              "      <td>0</td>\n",
              "    </tr>\n",
              "    <tr>\n",
              "      <th>12</th>\n",
              "      <td>Cloud_Networking_Cloud_eBook_300x600.jpg</td>\n",
              "      <td>0</td>\n",
              "      <td>1</td>\n",
              "      <td>0</td>\n",
              "      <td>0</td>\n",
              "      <td>0</td>\n",
              "      <td>0</td>\n",
              "      <td>0</td>\n",
              "      <td>0</td>\n",
              "      <td>0</td>\n",
              "      <td>0</td>\n",
              "      <td>0</td>\n",
              "      <td>0</td>\n",
              "      <td>0</td>\n",
              "      <td>0</td>\n",
              "      <td>0</td>\n",
              "      <td>0</td>\n",
              "      <td>0</td>\n",
              "      <td>1</td>\n",
              "      <td>0</td>\n",
              "      <td>0</td>\n",
              "      <td>1</td>\n",
              "      <td>1</td>\n",
              "      <td>0</td>\n",
              "      <td>0</td>\n",
              "      <td>0</td>\n",
              "      <td>1</td>\n",
              "      <td>0</td>\n",
              "      <td>0</td>\n",
              "      <td>0</td>\n",
              "      <td>0</td>\n",
              "      <td>0</td>\n",
              "      <td>0</td>\n",
              "      <td>0</td>\n",
              "      <td>0</td>\n",
              "      <td>0</td>\n",
              "      <td>0</td>\n",
              "      <td>0</td>\n",
              "      <td>1</td>\n",
              "      <td>1</td>\n",
              "      <td>1</td>\n",
              "      <td>0</td>\n",
              "      <td>0</td>\n",
              "      <td>0</td>\n",
              "      <td>0</td>\n",
              "      <td>0</td>\n",
              "      <td>0</td>\n",
              "      <td>0</td>\n",
              "      <td>0</td>\n",
              "      <td>0</td>\n",
              "      <td>0</td>\n",
              "      <td>0</td>\n",
              "      <td>0</td>\n",
              "      <td>0</td>\n",
              "      <td>1</td>\n",
              "      <td>0</td>\n",
              "      <td>0</td>\n",
              "    </tr>\n",
              "    <tr>\n",
              "      <th>13</th>\n",
              "      <td>DA-300x250.jpg</td>\n",
              "      <td>0</td>\n",
              "      <td>0</td>\n",
              "      <td>1</td>\n",
              "      <td>0</td>\n",
              "      <td>0</td>\n",
              "      <td>0</td>\n",
              "      <td>0</td>\n",
              "      <td>0</td>\n",
              "      <td>0</td>\n",
              "      <td>0</td>\n",
              "      <td>0</td>\n",
              "      <td>0</td>\n",
              "      <td>0</td>\n",
              "      <td>1</td>\n",
              "      <td>0</td>\n",
              "      <td>0</td>\n",
              "      <td>0</td>\n",
              "      <td>0</td>\n",
              "      <td>0</td>\n",
              "      <td>0</td>\n",
              "      <td>0</td>\n",
              "      <td>0</td>\n",
              "      <td>0</td>\n",
              "      <td>0</td>\n",
              "      <td>1</td>\n",
              "      <td>0</td>\n",
              "      <td>1</td>\n",
              "      <td>0</td>\n",
              "      <td>0</td>\n",
              "      <td>0</td>\n",
              "      <td>1</td>\n",
              "      <td>0</td>\n",
              "      <td>1</td>\n",
              "      <td>0</td>\n",
              "      <td>0</td>\n",
              "      <td>0</td>\n",
              "      <td>1</td>\n",
              "      <td>0</td>\n",
              "      <td>0</td>\n",
              "      <td>0</td>\n",
              "      <td>0</td>\n",
              "      <td>0</td>\n",
              "      <td>0</td>\n",
              "      <td>0</td>\n",
              "      <td>0</td>\n",
              "      <td>0</td>\n",
              "      <td>1</td>\n",
              "      <td>0</td>\n",
              "      <td>1</td>\n",
              "      <td>0</td>\n",
              "      <td>0</td>\n",
              "      <td>0</td>\n",
              "      <td>0</td>\n",
              "      <td>0</td>\n",
              "      <td>0</td>\n",
              "      <td>0</td>\n",
              "    </tr>\n",
              "    <tr>\n",
              "      <th>14</th>\n",
              "      <td>dmd_de_disp_netw-1_7considerationsformicroapps...</td>\n",
              "      <td>0</td>\n",
              "      <td>0</td>\n",
              "      <td>0</td>\n",
              "      <td>1</td>\n",
              "      <td>0</td>\n",
              "      <td>0</td>\n",
              "      <td>0</td>\n",
              "      <td>0</td>\n",
              "      <td>0</td>\n",
              "      <td>1</td>\n",
              "      <td>0</td>\n",
              "      <td>0</td>\n",
              "      <td>0</td>\n",
              "      <td>0</td>\n",
              "      <td>0</td>\n",
              "      <td>0</td>\n",
              "      <td>0</td>\n",
              "      <td>1</td>\n",
              "      <td>0</td>\n",
              "      <td>0</td>\n",
              "      <td>0</td>\n",
              "      <td>1</td>\n",
              "      <td>1</td>\n",
              "      <td>0</td>\n",
              "      <td>0</td>\n",
              "      <td>1</td>\n",
              "      <td>0</td>\n",
              "      <td>1</td>\n",
              "      <td>0</td>\n",
              "      <td>0</td>\n",
              "      <td>0</td>\n",
              "      <td>1</td>\n",
              "      <td>0</td>\n",
              "      <td>0</td>\n",
              "      <td>0</td>\n",
              "      <td>0</td>\n",
              "      <td>0</td>\n",
              "      <td>0</td>\n",
              "      <td>0</td>\n",
              "      <td>0</td>\n",
              "      <td>0</td>\n",
              "      <td>0</td>\n",
              "      <td>0</td>\n",
              "      <td>0</td>\n",
              "      <td>0</td>\n",
              "      <td>1</td>\n",
              "      <td>0</td>\n",
              "      <td>0</td>\n",
              "      <td>0</td>\n",
              "      <td>0</td>\n",
              "      <td>0</td>\n",
              "      <td>0</td>\n",
              "      <td>0</td>\n",
              "      <td>0</td>\n",
              "      <td>0</td>\n",
              "      <td>0</td>\n",
              "    </tr>\n",
              "    <tr>\n",
              "      <th>15</th>\n",
              "      <td>dmd_de_disp_netw-1_appdeliverycloudnatives_na_...</td>\n",
              "      <td>0</td>\n",
              "      <td>0</td>\n",
              "      <td>0</td>\n",
              "      <td>1</td>\n",
              "      <td>0</td>\n",
              "      <td>0</td>\n",
              "      <td>0</td>\n",
              "      <td>1</td>\n",
              "      <td>0</td>\n",
              "      <td>1</td>\n",
              "      <td>0</td>\n",
              "      <td>0</td>\n",
              "      <td>0</td>\n",
              "      <td>0</td>\n",
              "      <td>0</td>\n",
              "      <td>0</td>\n",
              "      <td>0</td>\n",
              "      <td>1</td>\n",
              "      <td>0</td>\n",
              "      <td>0</td>\n",
              "      <td>0</td>\n",
              "      <td>0</td>\n",
              "      <td>0</td>\n",
              "      <td>0</td>\n",
              "      <td>0</td>\n",
              "      <td>0</td>\n",
              "      <td>0</td>\n",
              "      <td>0</td>\n",
              "      <td>0</td>\n",
              "      <td>0</td>\n",
              "      <td>0</td>\n",
              "      <td>0</td>\n",
              "      <td>0</td>\n",
              "      <td>1</td>\n",
              "      <td>0</td>\n",
              "      <td>0</td>\n",
              "      <td>0</td>\n",
              "      <td>0</td>\n",
              "      <td>1</td>\n",
              "      <td>0</td>\n",
              "      <td>0</td>\n",
              "      <td>0</td>\n",
              "      <td>0</td>\n",
              "      <td>0</td>\n",
              "      <td>0</td>\n",
              "      <td>0</td>\n",
              "      <td>0</td>\n",
              "      <td>0</td>\n",
              "      <td>0</td>\n",
              "      <td>0</td>\n",
              "      <td>0</td>\n",
              "      <td>0</td>\n",
              "      <td>0</td>\n",
              "      <td>0</td>\n",
              "      <td>0</td>\n",
              "      <td>0</td>\n",
              "    </tr>\n",
              "  </tbody>\n",
              "</table>\n",
              "</div>"
            ],
            "text/plain": [
              "                                                image  ...  Yellow\n",
              "0   021820_CTX_Workspace_Experience_SDWAN_OnDemand...  ...       0\n",
              "1   08062020-163202805-082819_CTX_ADM_Cloud_Native...  ...       1\n",
              "2   08062020-163205850-082819_CTX_ADM_Cloud_Native...  ...       0\n",
              "3   081219_CTX_ADM_Hybrid_Multicloud_Webinar_OnDem...  ...       0\n",
              "4   082819_CTX_ADM_Cloud_Native_Application_Delive...  ...       0\n",
              "5                                        728x90_B.jpg  ...       0\n",
              "6                            ADC_Guide_DA-300x600.jpg  ...       0\n",
              "7                  Banner_Vertical_Narrow_160x600.jpg  ...       0\n",
              "8               Citrix_Q2_ADC-Infographic_300x600.jpg  ...       0\n",
              "9         Citrix_Q2_SD-WAN-Solution-Brief_300x600.jpg  ...       0\n",
              "10  Cloud_Networking_7_Key_Considerations_300x600.jpg  ...       0\n",
              "11   Cloud_Networking_Cloud_Network_Video_300x250.jpg  ...       0\n",
              "12           Cloud_Networking_Cloud_eBook_300x600.jpg  ...       0\n",
              "13                                     DA-300x250.jpg  ...       0\n",
              "14  dmd_de_disp_netw-1_7considerationsformicroapps...  ...       0\n",
              "15  dmd_de_disp_netw-1_appdeliverycloudnatives_na_...  ...       0\n",
              "\n",
              "[16 rows x 57 columns]"
            ]
          },
          "metadata": {
            "tags": []
          },
          "execution_count": 100
        }
      ]
    },
    {
      "cell_type": "code",
      "metadata": {
        "colab": {
          "base_uri": "https://localhost:8080/",
          "height": 413
        },
        "id": "HxaIsaizYaE0",
        "outputId": "ce99c852-c232-4bcc-b21f-4aaa6940a828"
      },
      "source": [
        "proper_1_hot.merge(performance, left_index=True, left_on='image', right_on='Filename')\n",
        "\n"
      ],
      "execution_count": null,
      "outputs": [
        {
          "output_type": "execute_result",
          "data": {
            "text/html": [
              "<div>\n",
              "<style scoped>\n",
              "    .dataframe tbody tr th:only-of-type {\n",
              "        vertical-align: middle;\n",
              "    }\n",
              "\n",
              "    .dataframe tbody tr th {\n",
              "        vertical-align: top;\n",
              "    }\n",
              "\n",
              "    .dataframe thead th {\n",
              "        text-align: right;\n",
              "    }\n",
              "</style>\n",
              "<table border=\"1\" class=\"dataframe\">\n",
              "  <thead>\n",
              "    <tr style=\"text-align: right;\">\n",
              "      <th></th>\n",
              "      <th>image</th>\n",
              "      <th>Adaptation</th>\n",
              "      <th>Advertising</th>\n",
              "      <th>Arm</th>\n",
              "      <th>Art</th>\n",
              "      <th>Azure</th>\n",
              "      <th>Banner</th>\n",
              "      <th>Blue</th>\n",
              "      <th>Brand</th>\n",
              "      <th>Building</th>\n",
              "      <th>Circle</th>\n",
              "      <th>Communication Device</th>\n",
              "      <th>Community</th>\n",
              "      <th>Companion dog</th>\n",
              "      <th>Computer</th>\n",
              "      <th>Design</th>\n",
              "      <th>Dog</th>\n",
              "      <th>Dress shirt</th>\n",
              "      <th>Electric blue</th>\n",
              "      <th>Engineering</th>\n",
              "      <th>Event</th>\n",
              "      <th>Eyewear</th>\n",
              "      <th>Font</th>\n",
              "      <th>Gesture</th>\n",
              "      <th>Graphics</th>\n",
              "      <th>Hand</th>\n",
              "      <th>Happy</th>\n",
              "      <th>Laptop</th>\n",
              "      <th>Line</th>\n",
              "      <th>Logo</th>\n",
              "      <th>Mobile phone</th>\n",
              "      <th>Office supplies</th>\n",
              "      <th>Organism</th>\n",
              "      <th>Output device</th>\n",
              "      <th>Parallel</th>\n",
              "      <th>Pattern</th>\n",
              "      <th>People</th>\n",
              "      <th>Personal computer</th>\n",
              "      <th>Photo caption</th>\n",
              "      <th>Poster</th>\n",
              "      <th>Product</th>\n",
              "      <th>Rectangle</th>\n",
              "      <th>Science</th>\n",
              "      <th>Sharing</th>\n",
              "      <th>Sky</th>\n",
              "      <th>Sleeve</th>\n",
              "      <th>Slope</th>\n",
              "      <th>Smile</th>\n",
              "      <th>T-shirt</th>\n",
              "      <th>Tableware</th>\n",
              "      <th>Technology</th>\n",
              "      <th>Terrestrial plant</th>\n",
              "      <th>Transport</th>\n",
              "      <th>Travel</th>\n",
              "      <th>Vision care</th>\n",
              "      <th>World</th>\n",
              "      <th>Yellow</th>\n",
              "      <th>Advertiser ID</th>\n",
              "      <th>Filename</th>\n",
              "      <th>Impressions</th>\n",
              "      <th>Clicks</th>\n",
              "      <th>CTR (Calc)</th>\n",
              "      <th>Ga:Sessions</th>\n",
              "      <th>Engagement Score (Calc)</th>\n",
              "    </tr>\n",
              "  </thead>\n",
              "  <tbody>\n",
              "    <tr>\n",
              "      <th>1</th>\n",
              "      <td>021820_CTX_Workspace_Experience_SDWAN_OnDemand...</td>\n",
              "      <td>1</td>\n",
              "      <td>0</td>\n",
              "      <td>0</td>\n",
              "      <td>0</td>\n",
              "      <td>0</td>\n",
              "      <td>0</td>\n",
              "      <td>0</td>\n",
              "      <td>0</td>\n",
              "      <td>0</td>\n",
              "      <td>0</td>\n",
              "      <td>0</td>\n",
              "      <td>0</td>\n",
              "      <td>0</td>\n",
              "      <td>0</td>\n",
              "      <td>0</td>\n",
              "      <td>0</td>\n",
              "      <td>0</td>\n",
              "      <td>0</td>\n",
              "      <td>0</td>\n",
              "      <td>0</td>\n",
              "      <td>0</td>\n",
              "      <td>1</td>\n",
              "      <td>0</td>\n",
              "      <td>0</td>\n",
              "      <td>0</td>\n",
              "      <td>0</td>\n",
              "      <td>0</td>\n",
              "      <td>0</td>\n",
              "      <td>0</td>\n",
              "      <td>0</td>\n",
              "      <td>0</td>\n",
              "      <td>0</td>\n",
              "      <td>1</td>\n",
              "      <td>0</td>\n",
              "      <td>0</td>\n",
              "      <td>1</td>\n",
              "      <td>0</td>\n",
              "      <td>0</td>\n",
              "      <td>0</td>\n",
              "      <td>1</td>\n",
              "      <td>0</td>\n",
              "      <td>0</td>\n",
              "      <td>1</td>\n",
              "      <td>0</td>\n",
              "      <td>1</td>\n",
              "      <td>0</td>\n",
              "      <td>1</td>\n",
              "      <td>1</td>\n",
              "      <td>0</td>\n",
              "      <td>0</td>\n",
              "      <td>0</td>\n",
              "      <td>0</td>\n",
              "      <td>0</td>\n",
              "      <td>0</td>\n",
              "      <td>0</td>\n",
              "      <td>0</td>\n",
              "      <td>9918942</td>\n",
              "      <td>021820_CTX_Workspace_Experience_SDWAN_OnDemand...</td>\n",
              "      <td>31201.0</td>\n",
              "      <td>166.0</td>\n",
              "      <td>0.0053</td>\n",
              "      <td>115.0</td>\n",
              "      <td>7.1</td>\n",
              "    </tr>\n",
              "    <tr>\n",
              "      <th>6</th>\n",
              "      <td>08062020-163205850-082819_CTX_ADM_Cloud_Native...</td>\n",
              "      <td>0</td>\n",
              "      <td>1</td>\n",
              "      <td>0</td>\n",
              "      <td>0</td>\n",
              "      <td>0</td>\n",
              "      <td>0</td>\n",
              "      <td>0</td>\n",
              "      <td>0</td>\n",
              "      <td>0</td>\n",
              "      <td>1</td>\n",
              "      <td>0</td>\n",
              "      <td>0</td>\n",
              "      <td>0</td>\n",
              "      <td>1</td>\n",
              "      <td>0</td>\n",
              "      <td>0</td>\n",
              "      <td>0</td>\n",
              "      <td>0</td>\n",
              "      <td>1</td>\n",
              "      <td>0</td>\n",
              "      <td>0</td>\n",
              "      <td>1</td>\n",
              "      <td>0</td>\n",
              "      <td>0</td>\n",
              "      <td>0</td>\n",
              "      <td>0</td>\n",
              "      <td>1</td>\n",
              "      <td>1</td>\n",
              "      <td>0</td>\n",
              "      <td>0</td>\n",
              "      <td>0</td>\n",
              "      <td>0</td>\n",
              "      <td>1</td>\n",
              "      <td>0</td>\n",
              "      <td>0</td>\n",
              "      <td>0</td>\n",
              "      <td>0</td>\n",
              "      <td>0</td>\n",
              "      <td>0</td>\n",
              "      <td>0</td>\n",
              "      <td>0</td>\n",
              "      <td>0</td>\n",
              "      <td>0</td>\n",
              "      <td>0</td>\n",
              "      <td>0</td>\n",
              "      <td>0</td>\n",
              "      <td>0</td>\n",
              "      <td>0</td>\n",
              "      <td>0</td>\n",
              "      <td>1</td>\n",
              "      <td>0</td>\n",
              "      <td>0</td>\n",
              "      <td>0</td>\n",
              "      <td>0</td>\n",
              "      <td>0</td>\n",
              "      <td>0</td>\n",
              "      <td>9918942</td>\n",
              "      <td>08062020-163205850-082819_CTX_ADM_Cloud_Native...</td>\n",
              "      <td>84104.0</td>\n",
              "      <td>65.0</td>\n",
              "      <td>0.0008</td>\n",
              "      <td>27.0</td>\n",
              "      <td>8.8</td>\n",
              "    </tr>\n",
              "    <tr>\n",
              "      <th>2</th>\n",
              "      <td>081219_CTX_ADM_Hybrid_Multicloud_Webinar_OnDem...</td>\n",
              "      <td>0</td>\n",
              "      <td>0</td>\n",
              "      <td>0</td>\n",
              "      <td>0</td>\n",
              "      <td>0</td>\n",
              "      <td>0</td>\n",
              "      <td>0</td>\n",
              "      <td>0</td>\n",
              "      <td>0</td>\n",
              "      <td>0</td>\n",
              "      <td>1</td>\n",
              "      <td>1</td>\n",
              "      <td>0</td>\n",
              "      <td>0</td>\n",
              "      <td>0</td>\n",
              "      <td>0</td>\n",
              "      <td>0</td>\n",
              "      <td>0</td>\n",
              "      <td>0</td>\n",
              "      <td>0</td>\n",
              "      <td>0</td>\n",
              "      <td>1</td>\n",
              "      <td>1</td>\n",
              "      <td>0</td>\n",
              "      <td>0</td>\n",
              "      <td>1</td>\n",
              "      <td>0</td>\n",
              "      <td>0</td>\n",
              "      <td>0</td>\n",
              "      <td>1</td>\n",
              "      <td>0</td>\n",
              "      <td>0</td>\n",
              "      <td>0</td>\n",
              "      <td>0</td>\n",
              "      <td>0</td>\n",
              "      <td>0</td>\n",
              "      <td>0</td>\n",
              "      <td>0</td>\n",
              "      <td>0</td>\n",
              "      <td>0</td>\n",
              "      <td>0</td>\n",
              "      <td>0</td>\n",
              "      <td>1</td>\n",
              "      <td>0</td>\n",
              "      <td>1</td>\n",
              "      <td>0</td>\n",
              "      <td>0</td>\n",
              "      <td>0</td>\n",
              "      <td>0</td>\n",
              "      <td>1</td>\n",
              "      <td>0</td>\n",
              "      <td>0</td>\n",
              "      <td>0</td>\n",
              "      <td>0</td>\n",
              "      <td>0</td>\n",
              "      <td>0</td>\n",
              "      <td>9918942</td>\n",
              "      <td>081219_CTX_ADM_Hybrid_Multicloud_Webinar_OnDem...</td>\n",
              "      <td>33113.0</td>\n",
              "      <td>41.0</td>\n",
              "      <td>0.0012</td>\n",
              "      <td>10.0</td>\n",
              "      <td>4.3</td>\n",
              "    </tr>\n",
              "    <tr>\n",
              "      <th>7</th>\n",
              "      <td>728x90_B.jpg</td>\n",
              "      <td>0</td>\n",
              "      <td>0</td>\n",
              "      <td>0</td>\n",
              "      <td>1</td>\n",
              "      <td>0</td>\n",
              "      <td>0</td>\n",
              "      <td>0</td>\n",
              "      <td>1</td>\n",
              "      <td>0</td>\n",
              "      <td>1</td>\n",
              "      <td>0</td>\n",
              "      <td>0</td>\n",
              "      <td>0</td>\n",
              "      <td>0</td>\n",
              "      <td>0</td>\n",
              "      <td>0</td>\n",
              "      <td>0</td>\n",
              "      <td>1</td>\n",
              "      <td>0</td>\n",
              "      <td>0</td>\n",
              "      <td>0</td>\n",
              "      <td>1</td>\n",
              "      <td>0</td>\n",
              "      <td>1</td>\n",
              "      <td>0</td>\n",
              "      <td>0</td>\n",
              "      <td>0</td>\n",
              "      <td>0</td>\n",
              "      <td>1</td>\n",
              "      <td>0</td>\n",
              "      <td>0</td>\n",
              "      <td>0</td>\n",
              "      <td>0</td>\n",
              "      <td>0</td>\n",
              "      <td>0</td>\n",
              "      <td>0</td>\n",
              "      <td>0</td>\n",
              "      <td>0</td>\n",
              "      <td>0</td>\n",
              "      <td>0</td>\n",
              "      <td>1</td>\n",
              "      <td>0</td>\n",
              "      <td>0</td>\n",
              "      <td>1</td>\n",
              "      <td>0</td>\n",
              "      <td>0</td>\n",
              "      <td>0</td>\n",
              "      <td>0</td>\n",
              "      <td>0</td>\n",
              "      <td>0</td>\n",
              "      <td>0</td>\n",
              "      <td>0</td>\n",
              "      <td>0</td>\n",
              "      <td>0</td>\n",
              "      <td>0</td>\n",
              "      <td>0</td>\n",
              "      <td>9918942</td>\n",
              "      <td>728x90_B.jpg</td>\n",
              "      <td>440768.0</td>\n",
              "      <td>509.0</td>\n",
              "      <td>0.0012</td>\n",
              "      <td>111.0</td>\n",
              "      <td>22.9</td>\n",
              "    </tr>\n",
              "    <tr>\n",
              "      <th>8</th>\n",
              "      <td>ADC_Guide_DA-300x600.jpg</td>\n",
              "      <td>1</td>\n",
              "      <td>0</td>\n",
              "      <td>0</td>\n",
              "      <td>0</td>\n",
              "      <td>1</td>\n",
              "      <td>0</td>\n",
              "      <td>1</td>\n",
              "      <td>0</td>\n",
              "      <td>0</td>\n",
              "      <td>0</td>\n",
              "      <td>0</td>\n",
              "      <td>1</td>\n",
              "      <td>0</td>\n",
              "      <td>0</td>\n",
              "      <td>0</td>\n",
              "      <td>0</td>\n",
              "      <td>1</td>\n",
              "      <td>0</td>\n",
              "      <td>0</td>\n",
              "      <td>0</td>\n",
              "      <td>0</td>\n",
              "      <td>1</td>\n",
              "      <td>0</td>\n",
              "      <td>0</td>\n",
              "      <td>0</td>\n",
              "      <td>0</td>\n",
              "      <td>0</td>\n",
              "      <td>0</td>\n",
              "      <td>0</td>\n",
              "      <td>0</td>\n",
              "      <td>0</td>\n",
              "      <td>0</td>\n",
              "      <td>0</td>\n",
              "      <td>0</td>\n",
              "      <td>0</td>\n",
              "      <td>0</td>\n",
              "      <td>0</td>\n",
              "      <td>0</td>\n",
              "      <td>0</td>\n",
              "      <td>1</td>\n",
              "      <td>0</td>\n",
              "      <td>0</td>\n",
              "      <td>0</td>\n",
              "      <td>0</td>\n",
              "      <td>0</td>\n",
              "      <td>0</td>\n",
              "      <td>0</td>\n",
              "      <td>1</td>\n",
              "      <td>0</td>\n",
              "      <td>0</td>\n",
              "      <td>0</td>\n",
              "      <td>0</td>\n",
              "      <td>0</td>\n",
              "      <td>0</td>\n",
              "      <td>1</td>\n",
              "      <td>0</td>\n",
              "      <td>9918942</td>\n",
              "      <td>ADC_Guide_DA-300x600.jpg</td>\n",
              "      <td>127053.0</td>\n",
              "      <td>91.0</td>\n",
              "      <td>0.0007</td>\n",
              "      <td>60.0</td>\n",
              "      <td>21.8</td>\n",
              "    </tr>\n",
              "    <tr>\n",
              "      <th>13</th>\n",
              "      <td>Citrix_Q2_ADC-Infographic_300x600.jpg</td>\n",
              "      <td>0</td>\n",
              "      <td>1</td>\n",
              "      <td>0</td>\n",
              "      <td>0</td>\n",
              "      <td>0</td>\n",
              "      <td>0</td>\n",
              "      <td>0</td>\n",
              "      <td>0</td>\n",
              "      <td>0</td>\n",
              "      <td>0</td>\n",
              "      <td>0</td>\n",
              "      <td>0</td>\n",
              "      <td>0</td>\n",
              "      <td>0</td>\n",
              "      <td>0</td>\n",
              "      <td>0</td>\n",
              "      <td>0</td>\n",
              "      <td>0</td>\n",
              "      <td>0</td>\n",
              "      <td>1</td>\n",
              "      <td>0</td>\n",
              "      <td>1</td>\n",
              "      <td>1</td>\n",
              "      <td>0</td>\n",
              "      <td>0</td>\n",
              "      <td>1</td>\n",
              "      <td>0</td>\n",
              "      <td>0</td>\n",
              "      <td>0</td>\n",
              "      <td>1</td>\n",
              "      <td>0</td>\n",
              "      <td>0</td>\n",
              "      <td>0</td>\n",
              "      <td>0</td>\n",
              "      <td>0</td>\n",
              "      <td>0</td>\n",
              "      <td>0</td>\n",
              "      <td>0</td>\n",
              "      <td>0</td>\n",
              "      <td>0</td>\n",
              "      <td>0</td>\n",
              "      <td>0</td>\n",
              "      <td>1</td>\n",
              "      <td>0</td>\n",
              "      <td>0</td>\n",
              "      <td>0</td>\n",
              "      <td>0</td>\n",
              "      <td>0</td>\n",
              "      <td>0</td>\n",
              "      <td>0</td>\n",
              "      <td>1</td>\n",
              "      <td>0</td>\n",
              "      <td>1</td>\n",
              "      <td>0</td>\n",
              "      <td>0</td>\n",
              "      <td>0</td>\n",
              "      <td>9918942</td>\n",
              "      <td>Citrix_Q2_ADC-Infographic_300x600.jpg</td>\n",
              "      <td>4499.0</td>\n",
              "      <td>7.0</td>\n",
              "      <td>0.0016</td>\n",
              "      <td>4.0</td>\n",
              "      <td>7.0</td>\n",
              "    </tr>\n",
              "    <tr>\n",
              "      <th>14</th>\n",
              "      <td>Citrix_Q2_SD-WAN-Solution-Brief_300x600.jpg</td>\n",
              "      <td>0</td>\n",
              "      <td>0</td>\n",
              "      <td>0</td>\n",
              "      <td>0</td>\n",
              "      <td>0</td>\n",
              "      <td>0</td>\n",
              "      <td>0</td>\n",
              "      <td>0</td>\n",
              "      <td>0</td>\n",
              "      <td>0</td>\n",
              "      <td>0</td>\n",
              "      <td>0</td>\n",
              "      <td>1</td>\n",
              "      <td>0</td>\n",
              "      <td>0</td>\n",
              "      <td>1</td>\n",
              "      <td>0</td>\n",
              "      <td>0</td>\n",
              "      <td>0</td>\n",
              "      <td>0</td>\n",
              "      <td>0</td>\n",
              "      <td>1</td>\n",
              "      <td>0</td>\n",
              "      <td>0</td>\n",
              "      <td>0</td>\n",
              "      <td>0</td>\n",
              "      <td>1</td>\n",
              "      <td>0</td>\n",
              "      <td>0</td>\n",
              "      <td>0</td>\n",
              "      <td>0</td>\n",
              "      <td>0</td>\n",
              "      <td>1</td>\n",
              "      <td>0</td>\n",
              "      <td>0</td>\n",
              "      <td>0</td>\n",
              "      <td>1</td>\n",
              "      <td>0</td>\n",
              "      <td>1</td>\n",
              "      <td>1</td>\n",
              "      <td>0</td>\n",
              "      <td>0</td>\n",
              "      <td>0</td>\n",
              "      <td>0</td>\n",
              "      <td>0</td>\n",
              "      <td>0</td>\n",
              "      <td>1</td>\n",
              "      <td>0</td>\n",
              "      <td>0</td>\n",
              "      <td>0</td>\n",
              "      <td>0</td>\n",
              "      <td>0</td>\n",
              "      <td>0</td>\n",
              "      <td>0</td>\n",
              "      <td>0</td>\n",
              "      <td>0</td>\n",
              "      <td>9918942</td>\n",
              "      <td>Citrix_Q2_SD-WAN-Solution-Brief_300x600.jpg</td>\n",
              "      <td>4198.0</td>\n",
              "      <td>6.0</td>\n",
              "      <td>0.0014</td>\n",
              "      <td>2.0</td>\n",
              "      <td>7.0</td>\n",
              "    </tr>\n",
              "    <tr>\n",
              "      <th>19</th>\n",
              "      <td>Cloud_Networking_Cloud_Network_Video_300x250.jpg</td>\n",
              "      <td>0</td>\n",
              "      <td>0</td>\n",
              "      <td>0</td>\n",
              "      <td>0</td>\n",
              "      <td>0</td>\n",
              "      <td>0</td>\n",
              "      <td>0</td>\n",
              "      <td>1</td>\n",
              "      <td>0</td>\n",
              "      <td>1</td>\n",
              "      <td>0</td>\n",
              "      <td>0</td>\n",
              "      <td>0</td>\n",
              "      <td>0</td>\n",
              "      <td>0</td>\n",
              "      <td>0</td>\n",
              "      <td>0</td>\n",
              "      <td>1</td>\n",
              "      <td>0</td>\n",
              "      <td>1</td>\n",
              "      <td>0</td>\n",
              "      <td>1</td>\n",
              "      <td>0</td>\n",
              "      <td>1</td>\n",
              "      <td>0</td>\n",
              "      <td>0</td>\n",
              "      <td>0</td>\n",
              "      <td>0</td>\n",
              "      <td>1</td>\n",
              "      <td>0</td>\n",
              "      <td>0</td>\n",
              "      <td>0</td>\n",
              "      <td>0</td>\n",
              "      <td>0</td>\n",
              "      <td>1</td>\n",
              "      <td>0</td>\n",
              "      <td>0</td>\n",
              "      <td>0</td>\n",
              "      <td>0</td>\n",
              "      <td>0</td>\n",
              "      <td>0</td>\n",
              "      <td>1</td>\n",
              "      <td>0</td>\n",
              "      <td>0</td>\n",
              "      <td>0</td>\n",
              "      <td>0</td>\n",
              "      <td>0</td>\n",
              "      <td>0</td>\n",
              "      <td>0</td>\n",
              "      <td>0</td>\n",
              "      <td>0</td>\n",
              "      <td>0</td>\n",
              "      <td>0</td>\n",
              "      <td>0</td>\n",
              "      <td>0</td>\n",
              "      <td>0</td>\n",
              "      <td>9918942</td>\n",
              "      <td>Cloud_Networking_Cloud_Network_Video_300x250.jpg</td>\n",
              "      <td>79782.0</td>\n",
              "      <td>45.0</td>\n",
              "      <td>0.0006</td>\n",
              "      <td>28.0</td>\n",
              "      <td>11.7</td>\n",
              "    </tr>\n",
              "    <tr>\n",
              "      <th>18</th>\n",
              "      <td>Cloud_Networking_Cloud_eBook_300x600.jpg</td>\n",
              "      <td>0</td>\n",
              "      <td>1</td>\n",
              "      <td>0</td>\n",
              "      <td>0</td>\n",
              "      <td>0</td>\n",
              "      <td>0</td>\n",
              "      <td>0</td>\n",
              "      <td>0</td>\n",
              "      <td>0</td>\n",
              "      <td>0</td>\n",
              "      <td>0</td>\n",
              "      <td>0</td>\n",
              "      <td>0</td>\n",
              "      <td>0</td>\n",
              "      <td>0</td>\n",
              "      <td>0</td>\n",
              "      <td>0</td>\n",
              "      <td>1</td>\n",
              "      <td>0</td>\n",
              "      <td>0</td>\n",
              "      <td>1</td>\n",
              "      <td>1</td>\n",
              "      <td>0</td>\n",
              "      <td>0</td>\n",
              "      <td>0</td>\n",
              "      <td>1</td>\n",
              "      <td>0</td>\n",
              "      <td>0</td>\n",
              "      <td>0</td>\n",
              "      <td>0</td>\n",
              "      <td>0</td>\n",
              "      <td>0</td>\n",
              "      <td>0</td>\n",
              "      <td>0</td>\n",
              "      <td>0</td>\n",
              "      <td>0</td>\n",
              "      <td>0</td>\n",
              "      <td>1</td>\n",
              "      <td>1</td>\n",
              "      <td>1</td>\n",
              "      <td>0</td>\n",
              "      <td>0</td>\n",
              "      <td>0</td>\n",
              "      <td>0</td>\n",
              "      <td>0</td>\n",
              "      <td>0</td>\n",
              "      <td>0</td>\n",
              "      <td>0</td>\n",
              "      <td>0</td>\n",
              "      <td>0</td>\n",
              "      <td>0</td>\n",
              "      <td>0</td>\n",
              "      <td>0</td>\n",
              "      <td>1</td>\n",
              "      <td>0</td>\n",
              "      <td>0</td>\n",
              "      <td>9918942</td>\n",
              "      <td>Cloud_Networking_Cloud_eBook_300x600.jpg</td>\n",
              "      <td>82828.0</td>\n",
              "      <td>41.0</td>\n",
              "      <td>0.0005</td>\n",
              "      <td>39.0</td>\n",
              "      <td>13.4</td>\n",
              "    </tr>\n",
              "    <tr>\n",
              "      <th>21</th>\n",
              "      <td>dmd_de_disp_netw-1_7considerationsformicroapps...</td>\n",
              "      <td>0</td>\n",
              "      <td>0</td>\n",
              "      <td>0</td>\n",
              "      <td>1</td>\n",
              "      <td>0</td>\n",
              "      <td>0</td>\n",
              "      <td>0</td>\n",
              "      <td>0</td>\n",
              "      <td>0</td>\n",
              "      <td>1</td>\n",
              "      <td>0</td>\n",
              "      <td>0</td>\n",
              "      <td>0</td>\n",
              "      <td>0</td>\n",
              "      <td>0</td>\n",
              "      <td>0</td>\n",
              "      <td>0</td>\n",
              "      <td>1</td>\n",
              "      <td>0</td>\n",
              "      <td>0</td>\n",
              "      <td>0</td>\n",
              "      <td>1</td>\n",
              "      <td>1</td>\n",
              "      <td>0</td>\n",
              "      <td>0</td>\n",
              "      <td>1</td>\n",
              "      <td>0</td>\n",
              "      <td>1</td>\n",
              "      <td>0</td>\n",
              "      <td>0</td>\n",
              "      <td>0</td>\n",
              "      <td>1</td>\n",
              "      <td>0</td>\n",
              "      <td>0</td>\n",
              "      <td>0</td>\n",
              "      <td>0</td>\n",
              "      <td>0</td>\n",
              "      <td>0</td>\n",
              "      <td>0</td>\n",
              "      <td>0</td>\n",
              "      <td>0</td>\n",
              "      <td>0</td>\n",
              "      <td>0</td>\n",
              "      <td>0</td>\n",
              "      <td>0</td>\n",
              "      <td>1</td>\n",
              "      <td>0</td>\n",
              "      <td>0</td>\n",
              "      <td>0</td>\n",
              "      <td>0</td>\n",
              "      <td>0</td>\n",
              "      <td>0</td>\n",
              "      <td>0</td>\n",
              "      <td>0</td>\n",
              "      <td>0</td>\n",
              "      <td>0</td>\n",
              "      <td>9918942</td>\n",
              "      <td>dmd_de_disp_netw-1_7considerationsformicroapps...</td>\n",
              "      <td>44904.0</td>\n",
              "      <td>41.0</td>\n",
              "      <td>0.0009</td>\n",
              "      <td>12.0</td>\n",
              "      <td>6.8</td>\n",
              "    </tr>\n",
              "  </tbody>\n",
              "</table>\n",
              "</div>"
            ],
            "text/plain": [
              "                                                image  ...  Engagement Score (Calc)\n",
              "1   021820_CTX_Workspace_Experience_SDWAN_OnDemand...  ...                      7.1\n",
              "6   08062020-163205850-082819_CTX_ADM_Cloud_Native...  ...                      8.8\n",
              "2   081219_CTX_ADM_Hybrid_Multicloud_Webinar_OnDem...  ...                      4.3\n",
              "7                                        728x90_B.jpg  ...                     22.9\n",
              "8                            ADC_Guide_DA-300x600.jpg  ...                     21.8\n",
              "13              Citrix_Q2_ADC-Infographic_300x600.jpg  ...                      7.0\n",
              "14        Citrix_Q2_SD-WAN-Solution-Brief_300x600.jpg  ...                      7.0\n",
              "19   Cloud_Networking_Cloud_Network_Video_300x250.jpg  ...                     11.7\n",
              "18           Cloud_Networking_Cloud_eBook_300x600.jpg  ...                     13.4\n",
              "21  dmd_de_disp_netw-1_7considerationsformicroapps...  ...                      6.8\n",
              "\n",
              "[10 rows x 64 columns]"
            ]
          },
          "metadata": {
            "tags": []
          },
          "execution_count": 101
        }
      ]
    },
    {
      "cell_type": "code",
      "metadata": {
        "id": "gcdn4rqvOqVM"
      },
      "source": [
        "joined = proper_1_hot.merge(performance, left_index=True, left_on='image', right_on='Filename')"
      ],
      "execution_count": null,
      "outputs": []
    },
    {
      "cell_type": "code",
      "metadata": {
        "id": "_bJWgiWcch_r"
      },
      "source": [
        "joined.to_csv('/content/drive/MyDrive/ImageAnnotator/labels_with_performance.csv', index=False)"
      ],
      "execution_count": null,
      "outputs": []
    },
    {
      "cell_type": "markdown",
      "metadata": {
        "id": "5xScAp8msSck"
      },
      "source": [
        "# Start here (this is beginning marker for new script)"
      ]
    },
    {
      "cell_type": "code",
      "metadata": {
        "id": "WmSuP0aQb0Od"
      },
      "source": [
        "joined = pd.read_csv('/content/drive/MyDrive/ImageAnnotator/labels_with_performance.csv')"
      ],
      "execution_count": null,
      "outputs": []
    },
    {
      "cell_type": "code",
      "metadata": {
        "id": "V5KG53rOjH7Y"
      },
      "source": [
        ""
      ],
      "execution_count": null,
      "outputs": []
    },
    {
      "cell_type": "markdown",
      "metadata": {
        "id": "LpELW7MNfWJR"
      },
      "source": [
        "# build regression on joined data surface best labels"
      ]
    },
    {
      "cell_type": "code",
      "metadata": {
        "id": "ugxz3JKNb0RN"
      },
      "source": [
        "# grab columns that will always be present in the model a (all labels and target, drop all else)\n",
        "\n",
        "colunmList = joined.columns.to_list()\n",
        "kilCols = ['Advertiser ID', 'Filename', 'image']"
      ],
      "execution_count": null,
      "outputs": []
    },
    {
      "cell_type": "code",
      "metadata": {
        "id": "BI_n0zgVCLDT"
      },
      "source": [
        "keepers = list(set(colunmList) - set(kilCols))\n"
      ],
      "execution_count": null,
      "outputs": []
    },
    {
      "cell_type": "code",
      "metadata": {
        "id": "gsoqk-N8b0T_"
      },
      "source": [
        "mod_dat = joined[keepers]"
      ],
      "execution_count": null,
      "outputs": []
    },
    {
      "cell_type": "code",
      "metadata": {
        "colab": {
          "base_uri": "https://localhost:8080/"
        },
        "id": "rXj4EJVgGgAM",
        "outputId": "8d798779-7607-4080-8fb7-d2ec187e0277"
      },
      "source": [
        "import numpy as np\n",
        "from sklearn.linear_model import LinearRegression\n",
        "y = mod_dat['CTR (Calc)']\n",
        "X = mod_dat.drop('CTR (Calc)', axis=1)\n",
        "reg = LinearRegression().fit(X, y)\n",
        "#reg.score(X, y)\n",
        "reg.coef_"
      ],
      "execution_count": null,
      "outputs": [
        {
          "output_type": "execute_result",
          "data": {
            "text/plain": [
              "array([ 2.46622288e-06,  3.87230135e-05, -2.19212988e-05, -1.35525272e-20,\n",
              "        1.68728517e-05,  1.47013191e-05, -9.65287199e-06, -2.06774228e-05,\n",
              "        1.35525272e-20, -1.06272732e-05,  0.00000000e+00, -2.35635023e-06,\n",
              "       -1.38194904e-06, -1.46370510e-05,  1.47013191e-05,  3.87230135e-05,\n",
              "        5.53243867e-05, -2.35635023e-06,  0.00000000e+00, -2.62782874e-06,\n",
              "       -2.52655704e-05,  1.17960795e-06, -4.98417897e-06, -1.06272732e-05,\n",
              "       -1.35217112e-05, -1.92934701e-05, -3.27509131e-05, -2.62782874e-06,\n",
              "        1.34574430e-05,  3.20933755e-05,  1.22350962e-05,  1.44318442e-05,\n",
              "        0.00000000e+00,  1.19690038e-05,  2.09598309e-05,  1.92292020e-05,\n",
              "        0.00000000e+00,  0.00000000e+00,  9.74401192e-07,  1.22350962e-05,\n",
              "       -2.42911693e-05, -6.03636848e-06,  0.00000000e+00, -2.87475251e-08,\n",
              "        0.00000000e+00,  2.46622288e-06, -9.65287199e-06,  1.92292020e-05,\n",
              "        5.09581097e-05, -2.62782874e-06,  0.00000000e+00, -3.58928436e-05,\n",
              "       -2.35635023e-06, -3.02846902e-05, -1.06272732e-05,  1.78472529e-05,\n",
              "        1.47013191e-05,  0.00000000e+00, -3.27509131e-05, -1.06272732e-05])"
            ]
          },
          "metadata": {
            "tags": []
          },
          "execution_count": 30
        }
      ]
    },
    {
      "cell_type": "code",
      "metadata": {
        "id": "qm4o13ohqfid"
      },
      "source": [
        "\n",
        "coefs = pd.DataFrame(list(zip(reg.coef_, X)))\n"
      ],
      "execution_count": null,
      "outputs": []
    },
    {
      "cell_type": "code",
      "metadata": {
        "id": "tW8At3No1SvE"
      },
      "source": [
        "# prune this and you're golden\n",
        "\n",
        "coefs_df = coefs.sort_values(by=[0], ascending=False)\n",
        "#print(\"this is the first one {}\").format(coefs_sorted[1])"
      ],
      "execution_count": null,
      "outputs": []
    },
    {
      "cell_type": "code",
      "metadata": {
        "colab": {
          "base_uri": "https://localhost:8080/"
        },
        "id": "1fKlZIBrz0Wo",
        "outputId": "5366e4b1-70ee-4c08-d6ce-d2b8aa44f6ab"
      },
      "source": [
        "for c in coefs_df[1]:\n",
        "  print(f\"create an image that has {c}\")"
      ],
      "execution_count": null,
      "outputs": [
        {
          "output_type": "stream",
          "text": [
            "create an image that has Advertising\n",
            "create an image that has Event\n",
            "create an image that has Travel\n",
            "create an image that has Terrestrial plant\n",
            "create an image that has Engagement Score (Calc)\n",
            "create an image that has Clicks\n",
            "create an image that has Computer\n",
            "create an image that has Engineering\n",
            "create an image that has Output device\n",
            "create an image that has Laptop\n",
            "create an image that has Brand\n",
            "create an image that has Graphics\n",
            "create an image that has Logo\n",
            "create an image that has Sharing\n",
            "create an image that has Mobile phone\n",
            "create an image that has Pattern\n",
            "create an image that has Science\n",
            "create an image that has Ga:Sessions\n",
            "create an image that has Sky\n",
            "create an image that has Rectangle\n",
            "create an image that has Circle\n",
            "create an image that has People\n",
            "create an image that has Transport\n",
            "create an image that has Office supplies\n",
            "create an image that has Arm\n",
            "create an image that has Building\n",
            "create an image that has Hand\n",
            "create an image that has Parallel\n",
            "create an image that has Design\n",
            "create an image that has Tableware\n",
            "create an image that has Font\n",
            "create an image that has Banner\n",
            "create an image that has Yellow\n",
            "create an image that has Impressions\n",
            "create an image that has Smile\n",
            "create an image that has Companion dog\n",
            "create an image that has Personal computer\n",
            "create an image that has Dog\n",
            "create an image that has Photo caption\n",
            "create an image that has Vision care\n",
            "create an image that has Eyewear\n",
            "create an image that has Poster\n",
            "create an image that has Technology\n",
            "create an image that has T-shirt\n",
            "create an image that has Adaptation\n",
            "create an image that has Dress shirt\n",
            "create an image that has Azure\n",
            "create an image that has Blue\n",
            "create an image that has World\n",
            "create an image that has Line\n",
            "create an image that has Product\n",
            "create an image that has Gesture\n",
            "create an image that has Electric blue\n",
            "create an image that has Happy\n",
            "create an image that has Sleeve\n",
            "create an image that has Communication Device\n",
            "create an image that has Art\n",
            "create an image that has Slope\n",
            "create an image that has Organism\n",
            "create an image that has Community\n"
          ],
          "name": "stdout"
        }
      ]
    },
    {
      "cell_type": "markdown",
      "metadata": {
        "id": "xSGcmbHOHFB0"
      },
      "source": [
        "# Initial Prototype Complete:\n",
        "## Next Steps:\n",
        "1. Bring in OCR, Face, and Celebrity Detection\n",
        "2. Determine where we should combine the above modules.\n",
        "3. Determine the type of analysis plan (regression?, etc.)\n",
        "\n"
      ]
    },
    {
      "cell_type": "code",
      "metadata": {
        "id": "pYKFuvidp61R"
      },
      "source": [
        ""
      ],
      "execution_count": null,
      "outputs": []
    },
    {
      "cell_type": "code",
      "metadata": {
        "id": "R3_Cx2E2HCQW"
      },
      "source": [
        ""
      ],
      "execution_count": null,
      "outputs": []
    },
    {
      "cell_type": "code",
      "metadata": {
        "id": "hDeCvGvsHCTz"
      },
      "source": [
        ""
      ],
      "execution_count": null,
      "outputs": []
    },
    {
      "cell_type": "code",
      "metadata": {
        "id": "9HCcbqC6HCZF"
      },
      "source": [
        ""
      ],
      "execution_count": null,
      "outputs": []
    },
    {
      "cell_type": "code",
      "metadata": {
        "id": "9XI6ovhYHCeQ"
      },
      "source": [
        ""
      ],
      "execution_count": null,
      "outputs": []
    },
    {
      "cell_type": "code",
      "metadata": {
        "id": "ojcVo5qYHCiB"
      },
      "source": [
        ""
      ],
      "execution_count": null,
      "outputs": []
    },
    {
      "cell_type": "code",
      "metadata": {
        "id": "a4INZZEjd6GA"
      },
      "source": [
        "response = []\n",
        "for f in files:\n",
        "  response.append(process_image(IMAGE_URL, feature_list))\n",
        "labels = response.label_annotations\n",
        "texts = response.text_annotations\n",
        "logo = response.logo_annotations\n",
        "#l=labels[0].description\n",
        "#t=texts[0].description\n",
        "print('this is text output:')\n",
        "print(texts) #the first desciptor can be split on /n and doesn't need a for loop\n",
        "print('this is label output:') #this needs a for loop as each descriptor shows the next label\n",
        "print(labels)\n",
        "print('this is logo output:') #this needs a for loop as each descriptor shows the next label\n",
        "print(logo)\n",
        "### CALLS TO ACTION ARE PROBABLY VERBS BTW :)### - a money feature would be something like \"detected call to action\""
      ],
      "execution_count": null,
      "outputs": []
    },
    {
      "cell_type": "code",
      "metadata": {
        "id": "4MBu7_e8ALT5"
      },
      "source": [
        "#logo formatted\n",
        "detected_logo=[]\n",
        "for i in range(len(logo)):\n",
        "  detected_logo.append(logo[i].description)"
      ],
      "execution_count": null,
      "outputs": []
    },
    {
      "cell_type": "code",
      "metadata": {
        "colab": {
          "base_uri": "https://localhost:8080/"
        },
        "id": "N4VfMG8ehYBX",
        "outputId": "28483e32-742e-4728-c566-893a2aa87de8"
      },
      "source": [
        "detected_logo"
      ],
      "execution_count": null,
      "outputs": [
        {
          "output_type": "execute_result",
          "data": {
            "text/plain": [
              "['Citrix Systems', 'Citrix Systems']"
            ]
          },
          "metadata": {
            "tags": []
          },
          "execution_count": 34
        }
      ]
    },
    {
      "cell_type": "code",
      "metadata": {
        "id": "MgdUfx6zx0Pk"
      },
      "source": [
        "creative_id= [123]"
      ],
      "execution_count": null,
      "outputs": []
    },
    {
      "cell_type": "code",
      "metadata": {
        "id": "7az6K7Fdhdal"
      },
      "source": [
        "#d = {'Label':detected_labels,'Logo':detected_logo, 'Text': detected_text}\n",
        "zippedList =  list(zip(creative_id, detected_logo, detected_labels, detected_text)) #gotta loop through detected text to grab it all..."
      ],
      "execution_count": null,
      "outputs": []
    },
    {
      "cell_type": "code",
      "metadata": {
        "colab": {
          "base_uri": "https://localhost:8080/"
        },
        "id": "KGxpjf3ewITT",
        "outputId": "8a747681-5e01-4a5f-ddcd-90b92ccb9d2e"
      },
      "source": [
        "# this is useful output\n",
        "set(zippedList)"
      ],
      "execution_count": null,
      "outputs": [
        {
          "output_type": "execute_result",
          "data": {
            "text/plain": [
              "{(123, 'Citrix Systems', 'Jeans', 'CİTRIX')}"
            ]
          },
          "metadata": {
            "tags": []
          },
          "execution_count": 51
        }
      ]
    },
    {
      "cell_type": "code",
      "metadata": {
        "colab": {
          "base_uri": "https://localhost:8080/",
          "height": 80
        },
        "id": "4q5UbGAGyCAE",
        "outputId": "99ed55a1-d125-4dd7-9b12-ee0083763c48"
      },
      "source": [
        "pd.DataFrame(set(zippedList))"
      ],
      "execution_count": null,
      "outputs": [
        {
          "output_type": "execute_result",
          "data": {
            "text/html": [
              "<div>\n",
              "<style scoped>\n",
              "    .dataframe tbody tr th:only-of-type {\n",
              "        vertical-align: middle;\n",
              "    }\n",
              "\n",
              "    .dataframe tbody tr th {\n",
              "        vertical-align: top;\n",
              "    }\n",
              "\n",
              "    .dataframe thead th {\n",
              "        text-align: right;\n",
              "    }\n",
              "</style>\n",
              "<table border=\"1\" class=\"dataframe\">\n",
              "  <thead>\n",
              "    <tr style=\"text-align: right;\">\n",
              "      <th></th>\n",
              "      <th>0</th>\n",
              "      <th>1</th>\n",
              "      <th>2</th>\n",
              "      <th>3</th>\n",
              "    </tr>\n",
              "  </thead>\n",
              "  <tbody>\n",
              "    <tr>\n",
              "      <th>0</th>\n",
              "      <td>123</td>\n",
              "      <td>Citrix Systems</td>\n",
              "      <td>Jeans</td>\n",
              "      <td>CİTRIX</td>\n",
              "    </tr>\n",
              "  </tbody>\n",
              "</table>\n",
              "</div>"
            ],
            "text/plain": [
              "     0               1      2       3\n",
              "0  123  Citrix Systems  Jeans  CİTRIX"
            ]
          },
          "metadata": {
            "tags": []
          },
          "execution_count": 52
        }
      ]
    },
    {
      "cell_type": "code",
      "metadata": {
        "colab": {
          "base_uri": "https://localhost:8080/"
        },
        "id": "Q18WXdII2i4N",
        "outputId": "06c2acbe-3bcc-4b81-ec6c-da6bad928242"
      },
      "source": [
        "detected_text"
      ],
      "execution_count": null,
      "outputs": [
        {
          "output_type": "execute_result",
          "data": {
            "text/plain": [
              "['CİTRIX', 'Synergy', 'Direct', '7®', '']"
            ]
          },
          "metadata": {
            "tags": []
          },
          "execution_count": 60
        }
      ]
    },
    {
      "cell_type": "code",
      "metadata": {
        "colab": {
          "base_uri": "https://localhost:8080/",
          "height": 266
        },
        "id": "53Ri5oV5hdxy",
        "outputId": "704300bf-e560-46df-81a0-04c81247bd0b"
      },
      "source": [
        "#pd.DataFrame(d)\n",
        "#pd.DataFrame({'creative_id': pd.Series(123),'Label': pd.Series(detected_labels), 'Logo': pd.Series(detected_logo)})\n",
        "pd.DataFrame({'ID':pd.Series(creative_id), 'Label': pd.Series(detected_labels), 'Logo': pd.Series(detected_logo), 'Text': pd.Series(str(detected_text))}) # well dayum a proper data problem - organize me"
      ],
      "execution_count": null,
      "outputs": [
        {
          "output_type": "execute_result",
          "data": {
            "text/html": [
              "<div>\n",
              "<style scoped>\n",
              "    .dataframe tbody tr th:only-of-type {\n",
              "        vertical-align: middle;\n",
              "    }\n",
              "\n",
              "    .dataframe tbody tr th {\n",
              "        vertical-align: top;\n",
              "    }\n",
              "\n",
              "    .dataframe thead th {\n",
              "        text-align: right;\n",
              "    }\n",
              "</style>\n",
              "<table border=\"1\" class=\"dataframe\">\n",
              "  <thead>\n",
              "    <tr style=\"text-align: right;\">\n",
              "      <th></th>\n",
              "      <th>ID</th>\n",
              "      <th>Label</th>\n",
              "      <th>Logo</th>\n",
              "      <th>Text</th>\n",
              "    </tr>\n",
              "  </thead>\n",
              "  <tbody>\n",
              "    <tr>\n",
              "      <th>0</th>\n",
              "      <td>123.0</td>\n",
              "      <td>Jeans</td>\n",
              "      <td>Citrix Systems</td>\n",
              "      <td>['CİTRIX', 'Synergy', 'Direct', '7®', '']</td>\n",
              "    </tr>\n",
              "    <tr>\n",
              "      <th>1</th>\n",
              "      <td>NaN</td>\n",
              "      <td>Denim</td>\n",
              "      <td>Citrix Systems</td>\n",
              "      <td>NaN</td>\n",
              "    </tr>\n",
              "    <tr>\n",
              "      <th>2</th>\n",
              "      <td>NaN</td>\n",
              "      <td>Photography</td>\n",
              "      <td>NaN</td>\n",
              "      <td>NaN</td>\n",
              "    </tr>\n",
              "    <tr>\n",
              "      <th>3</th>\n",
              "      <td>NaN</td>\n",
              "      <td>Job</td>\n",
              "      <td>NaN</td>\n",
              "      <td>NaN</td>\n",
              "    </tr>\n",
              "    <tr>\n",
              "      <th>4</th>\n",
              "      <td>NaN</td>\n",
              "      <td>Travel</td>\n",
              "      <td>NaN</td>\n",
              "      <td>NaN</td>\n",
              "    </tr>\n",
              "    <tr>\n",
              "      <th>5</th>\n",
              "      <td>NaN</td>\n",
              "      <td>Brand</td>\n",
              "      <td>NaN</td>\n",
              "      <td>NaN</td>\n",
              "    </tr>\n",
              "    <tr>\n",
              "      <th>6</th>\n",
              "      <td>NaN</td>\n",
              "      <td>T-shirt</td>\n",
              "      <td>NaN</td>\n",
              "      <td>NaN</td>\n",
              "    </tr>\n",
              "  </tbody>\n",
              "</table>\n",
              "</div>"
            ],
            "text/plain": [
              "      ID  ...                                       Text\n",
              "0  123.0  ...  ['CİTRIX', 'Synergy', 'Direct', '7®', '']\n",
              "1    NaN  ...                                        NaN\n",
              "2    NaN  ...                                        NaN\n",
              "3    NaN  ...                                        NaN\n",
              "4    NaN  ...                                        NaN\n",
              "5    NaN  ...                                        NaN\n",
              "6    NaN  ...                                        NaN\n",
              "\n",
              "[7 rows x 4 columns]"
            ]
          },
          "metadata": {
            "tags": []
          },
          "execution_count": 59
        }
      ]
    },
    {
      "cell_type": "code",
      "metadata": {
        "id": "WniB85Ozzk8F"
      },
      "source": [
        "df = pd.DataFrame({'Label': pd.Series(detected_labels), 'Logo': pd.Series(detected_logo)})\n",
        "df['ID'] = 123\n",
        "df['text'] = str(detected_text)"
      ],
      "execution_count": null,
      "outputs": []
    },
    {
      "cell_type": "code",
      "metadata": {
        "id": "BEw8uS7FqmL0"
      },
      "source": [
        "#flatten the lists?\n",
        "#flat_list = [item for lab in detected_labels for item in lab]\n",
        "#flat_list = [item for sublist in t for item in sublist]"
      ],
      "execution_count": null,
      "outputs": []
    },
    {
      "cell_type": "code",
      "metadata": {
        "colab": {
          "base_uri": "https://localhost:8080/",
          "height": 204
        },
        "id": "6xl1RKofzsxh",
        "outputId": "5b887b0d-b42a-4bef-e444-8ca209602cb7"
      },
      "source": [
        "df.head()\n",
        "\n",
        "### this should be reduced to 1 row per creative - it'll be a small dataframe anyway"
      ],
      "execution_count": null,
      "outputs": [
        {
          "output_type": "execute_result",
          "data": {
            "text/html": [
              "<div>\n",
              "<style scoped>\n",
              "    .dataframe tbody tr th:only-of-type {\n",
              "        vertical-align: middle;\n",
              "    }\n",
              "\n",
              "    .dataframe tbody tr th {\n",
              "        vertical-align: top;\n",
              "    }\n",
              "\n",
              "    .dataframe thead th {\n",
              "        text-align: right;\n",
              "    }\n",
              "</style>\n",
              "<table border=\"1\" class=\"dataframe\">\n",
              "  <thead>\n",
              "    <tr style=\"text-align: right;\">\n",
              "      <th></th>\n",
              "      <th>Label</th>\n",
              "      <th>Logo</th>\n",
              "      <th>ID</th>\n",
              "      <th>text</th>\n",
              "    </tr>\n",
              "  </thead>\n",
              "  <tbody>\n",
              "    <tr>\n",
              "      <th>0</th>\n",
              "      <td>Jeans</td>\n",
              "      <td>Citrix Systems</td>\n",
              "      <td>123</td>\n",
              "      <td>['CİTRIX', 'Synergy', 'Direct', '7®', '']</td>\n",
              "    </tr>\n",
              "    <tr>\n",
              "      <th>1</th>\n",
              "      <td>Denim</td>\n",
              "      <td>Citrix Systems</td>\n",
              "      <td>123</td>\n",
              "      <td>['CİTRIX', 'Synergy', 'Direct', '7®', '']</td>\n",
              "    </tr>\n",
              "    <tr>\n",
              "      <th>2</th>\n",
              "      <td>Photography</td>\n",
              "      <td>NaN</td>\n",
              "      <td>123</td>\n",
              "      <td>['CİTRIX', 'Synergy', 'Direct', '7®', '']</td>\n",
              "    </tr>\n",
              "    <tr>\n",
              "      <th>3</th>\n",
              "      <td>Job</td>\n",
              "      <td>NaN</td>\n",
              "      <td>123</td>\n",
              "      <td>['CİTRIX', 'Synergy', 'Direct', '7®', '']</td>\n",
              "    </tr>\n",
              "    <tr>\n",
              "      <th>4</th>\n",
              "      <td>Travel</td>\n",
              "      <td>NaN</td>\n",
              "      <td>123</td>\n",
              "      <td>['CİTRIX', 'Synergy', 'Direct', '7®', '']</td>\n",
              "    </tr>\n",
              "  </tbody>\n",
              "</table>\n",
              "</div>"
            ],
            "text/plain": [
              "         Label            Logo   ID                                       text\n",
              "0        Jeans  Citrix Systems  123  ['CİTRIX', 'Synergy', 'Direct', '7®', '']\n",
              "1        Denim  Citrix Systems  123  ['CİTRIX', 'Synergy', 'Direct', '7®', '']\n",
              "2  Photography             NaN  123  ['CİTRIX', 'Synergy', 'Direct', '7®', '']\n",
              "3          Job             NaN  123  ['CİTRIX', 'Synergy', 'Direct', '7®', '']\n",
              "4       Travel             NaN  123  ['CİTRIX', 'Synergy', 'Direct', '7®', '']"
            ]
          },
          "metadata": {
            "tags": []
          },
          "execution_count": 63
        }
      ]
    },
    {
      "cell_type": "code",
      "metadata": {
        "id": "cOO5fUxJhd02"
      },
      "source": [
        ""
      ],
      "execution_count": null,
      "outputs": []
    },
    {
      "cell_type": "code",
      "metadata": {
        "id": "afz-L-ZX9am_"
      },
      "source": [
        "# in order to match to creative name we must strip the sizing and filetype off of creative_filename"
      ],
      "execution_count": null,
      "outputs": []
    },
    {
      "cell_type": "code",
      "metadata": {
        "id": "_oe2xl1YlGGv"
      },
      "source": [
        "# create dataframe keyed on creative by the vision output\n"
      ],
      "execution_count": null,
      "outputs": []
    },
    {
      "cell_type": "code",
      "metadata": {
        "id": "CYmURFvPkti9"
      },
      "source": [
        "### marry performance data to each creative"
      ],
      "execution_count": null,
      "outputs": []
    },
    {
      "cell_type": "code",
      "metadata": {
        "id": "MlYRF5DQkte7"
      },
      "source": [
        "### interpretable model is the goal, correlation will suffice at first ###"
      ],
      "execution_count": null,
      "outputs": []
    },
    {
      "cell_type": "code",
      "metadata": {
        "id": "EaW5eGsBTjf7"
      },
      "source": [
        "## Next task is to run through multiple examples and save down"
      ],
      "execution_count": null,
      "outputs": []
    },
    {
      "cell_type": "markdown",
      "metadata": {
        "id": "hsq-n-W60Vd9"
      },
      "source": [
        "## Legos are there, now we need to loop through each creative and have a dataframe as a result..."
      ]
    },
    {
      "cell_type": "code",
      "metadata": {
        "id": "5NRquG3N1VR5"
      },
      "source": [
        ""
      ],
      "execution_count": null,
      "outputs": []
    },
    {
      "cell_type": "markdown",
      "metadata": {
        "id": "TMv0_dgp1Ux4"
      },
      "source": [
        ""
      ]
    },
    {
      "cell_type": "code",
      "metadata": {
        "id": "XHjVc9Z0mLQe"
      },
      "source": [
        ""
      ],
      "execution_count": null,
      "outputs": []
    },
    {
      "cell_type": "code",
      "metadata": {
        "id": "al_7bv7sBpFa"
      },
      "source": [
        "joined_data= merge(source1, 2, 3, 4, 5, on_creative_id)"
      ],
      "execution_count": null,
      "outputs": []
    }
  ]
}