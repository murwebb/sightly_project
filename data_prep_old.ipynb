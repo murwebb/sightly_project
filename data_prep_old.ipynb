{
 "cells": [
  {
   "cell_type": "code",
   "execution_count": 1,
   "metadata": {},
   "outputs": [],
   "source": [
    "import os\n",
    "import datetime\n",
    "import numpy as np\n",
    "import pandas as pd\n",
    "from sklearn.model_selection import train_test_split\n",
    "from pandas_profiling import ProfileReport"
   ]
  },
  {
   "cell_type": "code",
   "execution_count": 3,
   "metadata": {},
   "outputs": [],
   "source": [
    "_data_dir = os.path.join('/Users/murraywebb/Projects/', 'adwords-data')"
   ]
  },
  {
   "cell_type": "code",
   "execution_count": null,
   "metadata": {},
   "outputs": [],
   "source": [
    "def load_data(filename):\n",
    "    dtype = {\n",
    "        'appid': np.int32,\n",
    "        'person_id': np.int32\n",
    "        #'converted': np.int32,\n",
    "        #'mailed': np.int32\n",
    "    }\n",
    "    dates = ['admit_date', 'discharge_date']\n",
    "    return pd.read_csv(os.path.join(_data_dir, filename), dtype=dtype, parse_dates=dates, sep='|', engine='c')\n",
    "\n",
    "def index_by(df, date_col):\n",
    "    df = df.loc[~df[date_col].isna()]\n",
    "    return df.set_index(date_col)\n",
    "\n",
    "def last_x_years(df, col, years):\n",
    "    years_ago = datetime.datetime.now() - datetime.timedelta(days=years*365)\n",
    "    return df.loc[df[col] >= years_ago]\n",
    "\n",
    "data = load_data('chomp_cf_sg2.csv')\n",
    "data = data.loc[~data.age_at_time_of_discharge.isna() & ~data.length_of_stay_in_days.isna()]\n",
    "data.age_at_time_of_discharge = data.age_at_time_of_discharge.astype(np.int32)\n",
    "data.length_of_stay_in_days = data.length_of_stay_in_days.astype(np.int32)\n",
    "\n",
    "data = last_x_years(data, 'admit_date', 2)\n",
    "#data = index_by(data, 'admit_date')\n",
    "\n",
    "data.head()"
   ]
  },
  {
   "cell_type": "code",
   "execution_count": null,
   "metadata": {},
   "outputs": [],
   "source": []
  }
 ],
 "metadata": {
  "kernelspec": {
   "display_name": "Python 3",
   "language": "python",
   "name": "python3"
  },
  "language_info": {
   "codemirror_mode": {
    "name": "ipython",
    "version": 3
   },
   "file_extension": ".py",
   "mimetype": "text/x-python",
   "name": "python",
   "nbconvert_exporter": "python",
   "pygments_lexer": "ipython3",
   "version": "3.6.5"
  }
 },
 "nbformat": 4,
 "nbformat_minor": 2
}
